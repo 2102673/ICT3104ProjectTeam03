{
 "cells": [
  {
   "cell_type": "markdown",
   "metadata": {},
   "source": [
    "### Create Virtual Environment"
   ]
  },
  {
   "cell_type": "code",
   "execution_count": 17,
   "metadata": {},
   "outputs": [
    {
     "name": "stdout",
     "output_type": "stream",
     "text": [
      "C:\\Users\\ellyn\\Documents\\GitHub\\ICT3104Project\n"
     ]
    }
   ],
   "source": [
    "# Create Virtual Environment\n",
    "%cd C:/Users/ellyn/Documents/GitHub/ICT3104Project\n",
    "!py -m venv 3104venv"
   ]
  },
  {
   "cell_type": "code",
   "execution_count": null,
   "metadata": {},
   "outputs": [
    {
     "name": "stdout",
     "output_type": "stream",
     "text": [
      "C:\\Users\\ellyn\\Documents\\GitHub\\ICT3104Project\\3104venv\n"
     ]
    }
   ],
   "source": [
    "# Activate Virtual Env\n",
    "# Change the directory accordingly to where your project is\n",
    "%cd C:/Users/ellyn/Documents/GitHub/ICT3104Project/3104venv\n",
    "!.\\Scripts\\activate\n",
    "\n",
    "# Then change the interpreter in VS Code to the Virtual Environment"
   ]
  },
  {
   "cell_type": "markdown",
   "metadata": {},
   "source": [
    "### Install Requirements"
   ]
  },
  {
   "cell_type": "code",
   "execution_count": 1,
   "metadata": {},
   "outputs": [
    {
     "name": "stdout",
     "output_type": "stream",
     "text": [
      "C:\\Users\\ellyn\\Documents\\GitHub\\ICT3104Project\n"
     ]
    }
   ],
   "source": [
    "# Change folder directory accordingly\n",
    "%cd C:/Users/ellyn/Documents/GitHub/ICT3104Project"
   ]
  },
  {
   "cell_type": "code",
   "execution_count": 9,
   "metadata": {},
   "outputs": [
    {
     "name": "stdout",
     "output_type": "stream",
     "text": [
      "C:\\Users\\ellyn\\Documents\\GitHub\\ICT3104Project\\FollowYourPose\n"
     ]
    },
    {
     "name": "stdout",
     "output_type": "stream",
     "text": [
      "Collecting absl-py==1.4.0\n",
      "  Downloading absl_py-1.4.0-py3-none-any.whl (126 kB)\n",
      "     -------------------------------------- 126.5/126.5 KB 3.8 MB/s eta 0:00:00\n",
      "Collecting accelerate==0.16.0\n",
      "  Downloading accelerate-0.16.0-py3-none-any.whl (199 kB)\n",
      "     -------------------------------------- 199.7/199.7 KB 2.4 MB/s eta 0:00:00\n",
      "Collecting aiofiles==23.1.0\n",
      "  Downloading aiofiles-23.1.0-py3-none-any.whl (14 kB)\n",
      "Collecting aiohttp==3.8.4\n",
      "  Downloading aiohttp-3.8.4-cp310-cp310-win_amd64.whl (319 kB)\n",
      "     -------------------------------------- 319.8/319.8 KB 3.9 MB/s eta 0:00:00\n",
      "Collecting aiosignal==1.3.1\n",
      "  Downloading aiosignal-1.3.1-py3-none-any.whl (7.6 kB)\n",
      "Collecting altair==4.2.2\n",
      "  Downloading altair-4.2.2-py3-none-any.whl (813 kB)\n",
      "     -------------------------------------- 813.6/813.6 KB 3.7 MB/s eta 0:00:00\n",
      "Collecting antlr4-python3-runtime==4.9.3\n",
      "  Downloading antlr4-python3-runtime-4.9.3.tar.gz (117 kB)\n",
      "     -------------------------------------- 117.0/117.0 KB 3.4 MB/s eta 0:00:00\n",
      "  Preparing metadata (setup.py): started\n",
      "  Preparing metadata (setup.py): finished with status 'done'\n",
      "Collecting anyio==3.6.2\n",
      "  Downloading anyio-3.6.2-py3-none-any.whl (80 kB)\n",
      "     ---------------------------------------- 80.6/80.6 KB 2.2 MB/s eta 0:00:00\n",
      "Collecting async-timeout==4.0.2\n",
      "  Downloading async_timeout-4.0.2-py3-none-any.whl (5.8 kB)\n",
      "Collecting attrs==22.2.0\n",
      "  Downloading attrs-22.2.0-py3-none-any.whl (60 kB)\n",
      "     ---------------------------------------- 60.0/60.0 KB ? eta 0:00:00\n",
      "Collecting av==10.0.0\n",
      "  Downloading av-10.0.0-cp310-cp310-win_amd64.whl (25.3 MB)\n",
      "     ---------------------------------------- 25.3/25.3 MB 3.9 MB/s eta 0:00:00\n",
      "Collecting bitsandbytes==0.35.4\n",
      "  Downloading bitsandbytes-0.35.4-py3-none-any.whl (62.5 MB)\n",
      "     ---------------------------------------- 62.5/62.5 MB 3.6 MB/s eta 0:00:00\n",
      "Collecting cachetools==5.3.0\n",
      "  Downloading cachetools-5.3.0-py3-none-any.whl (9.3 kB)\n",
      "Collecting charset-normalizer==3.0.1\n",
      "  Downloading charset_normalizer-3.0.1-cp310-cp310-win_amd64.whl (96 kB)\n",
      "     ---------------------------------------- 96.5/96.5 KB 5.7 MB/s eta 0:00:00\n",
      "Collecting click==8.1.3\n",
      "  Using cached click-8.1.3-py3-none-any.whl (96 kB)\n",
      "Collecting contourpy==1.0.7\n",
      "  Downloading contourpy-1.0.7-cp310-cp310-win_amd64.whl (162 kB)\n",
      "     -------------------------------------- 163.0/163.0 KB 3.2 MB/s eta 0:00:00\n",
      "Collecting cycler==0.11.0\n",
      "  Using cached cycler-0.11.0-py3-none-any.whl (6.4 kB)\n",
      "Collecting decord==0.6.0\n",
      "  Downloading decord-0.6.0-py3-none-win_amd64.whl (24.7 MB)\n",
      "     ---------------------------------------- 24.7/24.7 MB 4.2 MB/s eta 0:00:00\n",
      "Collecting diffusers==0.11.1\n",
      "  Using cached diffusers-0.11.1-py3-none-any.whl (524 kB)\n",
      "Collecting einops==0.6.0\n",
      "  Downloading einops-0.6.0-py3-none-any.whl (41 kB)\n",
      "     ---------------------------------------- 41.6/41.6 KB 2.1 MB/s eta 0:00:00\n",
      "Collecting entrypoints==0.4\n",
      "  Downloading entrypoints-0.4-py3-none-any.whl (5.3 kB)\n",
      "Collecting fastapi==0.95.0\n",
      "  Downloading fastapi-0.95.0-py3-none-any.whl (57 kB)\n",
      "     ---------------------------------------- 57.1/57.1 KB 1.5 MB/s eta 0:00:00\n",
      "Collecting ffmpeg-python==0.2.0\n",
      "  Downloading ffmpeg_python-0.2.0-py3-none-any.whl (25 kB)\n",
      "Collecting ffmpy==0.3.0\n",
      "  Downloading ffmpy-0.3.0.tar.gz (4.8 kB)\n",
      "  Preparing metadata (setup.py): started\n",
      "  Preparing metadata (setup.py): finished with status 'done'\n",
      "Collecting filelock==3.9.0\n",
      "  Downloading filelock-3.9.0-py3-none-any.whl (9.7 kB)\n",
      "Collecting fonttools==4.39.3\n",
      "  Downloading fonttools-4.39.3-py3-none-any.whl (1.0 MB)\n",
      "     ---------------------------------------- 1.0/1.0 MB 4.0 MB/s eta 0:00:00\n",
      "Collecting frozenlist==1.3.3\n",
      "  Downloading frozenlist-1.3.3-cp310-cp310-win_amd64.whl (33 kB)\n",
      "Collecting fsspec==2023.3.0\n",
      "  Downloading fsspec-2023.3.0-py3-none-any.whl (145 kB)\n",
      "     -------------------------------------- 145.4/145.4 KB 4.4 MB/s eta 0:00:00\n",
      "Collecting ftfy==6.1.1\n",
      "  Downloading ftfy-6.1.1-py3-none-any.whl (53 kB)\n",
      "     ---------------------------------------- 53.1/53.1 KB ? eta 0:00:00\n",
      "Collecting future==0.18.3\n",
      "  Downloading future-0.18.3.tar.gz (840 kB)\n",
      "     -------------------------------------- 840.9/840.9 KB 4.1 MB/s eta 0:00:00\n",
      "  Preparing metadata (setup.py): started\n",
      "  Preparing metadata (setup.py): finished with status 'done'\n",
      "Collecting google-auth==2.16.1\n",
      "  Downloading google_auth-2.16.1-py2.py3-none-any.whl (177 kB)\n",
      "     -------------------------------------- 177.2/177.2 KB 5.4 MB/s eta 0:00:00\n",
      "Collecting google-auth-oauthlib==0.4.6\n",
      "  Downloading google_auth_oauthlib-0.4.6-py2.py3-none-any.whl (18 kB)\n",
      "Collecting gradio==3.24.1\n",
      "  Downloading gradio-3.24.1-py3-none-any.whl (15.7 MB)\n",
      "     ---------------------------------------- 15.7/15.7 MB 4.6 MB/s eta 0:00:00\n",
      "Collecting gradio_client==0.0.7\n",
      "  Downloading gradio_client-0.0.7-py3-none-any.whl (14 kB)\n",
      "Collecting grpcio==1.51.3\n",
      "  Downloading grpcio-1.51.3-cp310-cp310-win_amd64.whl (3.7 MB)\n",
      "     ---------------------------------------- 3.7/3.7 MB 4.0 MB/s eta 0:00:00\n",
      "Collecting h11==0.14.0\n",
      "  Using cached h11-0.14.0-py3-none-any.whl (58 kB)\n",
      "Collecting httpcore==0.16.3\n",
      "  Downloading httpcore-0.16.3-py3-none-any.whl (69 kB)\n",
      "     ---------------------------------------- 69.6/69.6 KB 1.9 MB/s eta 0:00:00\n",
      "Collecting httpx==0.23.3\n",
      "  Downloading httpx-0.23.3-py3-none-any.whl (71 kB)\n",
      "     ---------------------------------------- 71.5/71.5 KB 2.0 MB/s eta 0:00:00\n",
      "Collecting huggingface-hub==0.13.3\n",
      "  Downloading huggingface_hub-0.13.3-py3-none-any.whl (199 kB)\n",
      "     -------------------------------------- 199.8/199.8 KB 3.0 MB/s eta 0:00:00\n",
      "Collecting idna==3.4\n",
      "  Using cached idna-3.4-py3-none-any.whl (61 kB)\n",
      "Collecting imageio==2.25.1\n",
      "  Downloading imageio-2.25.1-py3-none-any.whl (3.4 MB)\n",
      "     ---------------------------------------- 3.4/3.4 MB 3.9 MB/s eta 0:00:00\n",
      "Collecting importlib-metadata==6.0.0\n",
      "  Downloading importlib_metadata-6.0.0-py3-none-any.whl (21 kB)\n",
      "Collecting importlib-resources==5.12.0\n",
      "  Using cached importlib_resources-5.12.0-py3-none-any.whl (36 kB)\n",
      "Collecting Jinja2==3.1.2\n",
      "  Using cached Jinja2-3.1.2-py3-none-any.whl (133 kB)\n",
      "Collecting jsonschema==4.17.3\n",
      "  Downloading jsonschema-4.17.3-py3-none-any.whl (90 kB)\n",
      "     ---------------------------------------- 90.4/90.4 KB 2.6 MB/s eta 0:00:00\n",
      "Collecting kiwisolver==1.4.4\n",
      "  Using cached kiwisolver-1.4.4-cp310-cp310-win_amd64.whl (55 kB)\n",
      "Collecting linkify-it-py==2.0.0\n",
      "  Downloading linkify_it_py-2.0.0-py3-none-any.whl (19 kB)\n",
      "Collecting Markdown==3.4.1\n",
      "  Downloading Markdown-3.4.1-py3-none-any.whl (93 kB)\n",
      "     ---------------------------------------- 93.3/93.3 KB 1.8 MB/s eta 0:00:00\n",
      "Collecting markdown-it-py==2.2.0\n",
      "  Downloading markdown_it_py-2.2.0-py3-none-any.whl (84 kB)\n",
      "     ---------------------------------------- 84.5/84.5 KB 2.4 MB/s eta 0:00:00\n",
      "Collecting MarkupSafe==2.1.2\n",
      "  Using cached MarkupSafe-2.1.2-cp310-cp310-win_amd64.whl (16 kB)\n",
      "Collecting matplotlib==3.7.1\n",
      "  Using cached matplotlib-3.7.1-cp310-cp310-win_amd64.whl (7.6 MB)\n",
      "Collecting mdit-py-plugins==0.3.3\n",
      "  Downloading mdit_py_plugins-0.3.3-py3-none-any.whl (50 kB)\n",
      "     ---------------------------------------- 50.5/50.5 KB 2.7 MB/s eta 0:00:00\n",
      "Collecting mdurl==0.1.2\n",
      "  Downloading mdurl-0.1.2-py3-none-any.whl (10.0 kB)\n",
      "Collecting modelcards==0.1.6\n",
      "  Downloading modelcards-0.1.6-py3-none-any.whl (12 kB)\n",
      "Collecting multidict==6.0.4\n",
      "  Downloading multidict-6.0.4-cp310-cp310-win_amd64.whl (28 kB)\n",
      "Collecting mypy-extensions==1.0.0\n",
      "  Using cached mypy_extensions-1.0.0-py3-none-any.whl (4.7 kB)\n",
      "Collecting numpy==1.24.2\n",
      "  Downloading numpy-1.24.2-cp310-cp310-win_amd64.whl (14.8 MB)\n",
      "     ---------------------------------------- 14.8/14.8 MB 4.1 MB/s eta 0:00:00\n",
      "Collecting nvidia-cublas-cu11==11.10.3.66\n",
      "  Downloading nvidia_cublas_cu11-11.10.3.66-py3-none-win_amd64.whl (311.1 MB)\n",
      "     -------------------------------------- 311.1/311.1 MB 1.2 MB/s eta 0:00:00\n",
      "Collecting nvidia-cuda-nvrtc-cu11==11.7.99\n",
      "  Downloading nvidia_cuda_nvrtc_cu11-11.7.99-py3-none-win_amd64.whl (17.0 MB)\n",
      "     ---------------------------------------- 17.0/17.0 MB 4.1 MB/s eta 0:00:00\n",
      "Collecting nvidia-cuda-runtime-cu11==11.7.99\n",
      "  Downloading nvidia_cuda_runtime_cu11-11.7.99-py3-none-win_amd64.whl (991 kB)\n",
      "     -------------------------------------- 991.4/991.4 KB 3.9 MB/s eta 0:00:00\n",
      "Note: you may need to restart the kernel to use updated packages.\n"
     ]
    },
    {
     "name": "stderr",
     "output_type": "stream",
     "text": [
      "ERROR: Could not find a version that satisfies the requirement nvidia-cudnn-cu11==8.5.0.96 (from versions: 0.0.1.dev5, 8.9.4.19, 8.9.4.25)\n",
      "ERROR: No matching distribution found for nvidia-cudnn-cu11==8.5.0.96\n",
      "WARNING: You are using pip version 22.0.4; however, version 23.2.1 is available.\n",
      "You should consider upgrading via the 'c:\\Users\\ellyn\\Documents\\GitHub\\ICT3104Project\\3104venv\\Scripts\\python.exe -m pip install --upgrade pip' command.\n"
     ]
    },
    {
     "name": "stdout",
     "output_type": "stream",
     "text": [
      "Note: you may need to restart the kernel to use updated packages.\n"
     ]
    },
    {
     "name": "stderr",
     "output_type": "stream",
     "text": [
      "ERROR: Could not find a version that satisfies the requirement triton==2.0.0 (from versions: none)\n",
      "ERROR: No matching distribution found for triton==2.0.0\n",
      "WARNING: You are using pip version 22.0.4; however, version 23.2.1 is available.\n",
      "You should consider upgrading via the 'c:\\Users\\ellyn\\Documents\\GitHub\\ICT3104Project\\3104venv\\Scripts\\python.exe -m pip install --upgrade pip' command.\n"
     ]
    },
    {
     "name": "stdout",
     "output_type": "stream",
     "text": [
      "Note: you may need to restart the kernel to use updated packages.\n"
     ]
    },
    {
     "name": "stderr",
     "output_type": "stream",
     "text": [
      "WARNING: You are using pip version 22.0.4; however, version 23.2.1 is available.\n",
      "You should consider upgrading via the 'c:\\Users\\ellyn\\Documents\\GitHub\\ICT3104Project\\3104venv\\Scripts\\python.exe -m pip install --upgrade pip' command.\n"
     ]
    }
   ],
   "source": [
    "#@title Install requirements\n",
    "\n",
    "# Change folder directory accordingly\n",
    "!git clone https://github.com/mayuelala/FollowYourPose.git C:/Users/ellyn/Documents/GitHub/ICT3104Project/FollowYourPose\n",
    "%cd FollowYourPose\n",
    "%pip install -r requirements.txt\n",
    "%pip install -q -U --pre triton==2.0.0\n",
    "%pip install -q diffusers[torch]==0.11.1 transformers==4.26.0 bitsandbytes==0.35.4 \\\n",
    "decord accelerate omegaconf einops ftfy gradio imageio-ffmpeg xformers ipywidgets\n",
    "\n",
    "# !wget https://github.com/ShivamShrirao/xformers-wheels/releases/download/4c06c79/xformers-0.0.15.dev0+4c06c79.d20221201-cp38-cp38-linux_x86_64.whl\n",
    "# %pip install xformers-0.0.15.dev0+4c06c79.d20221201-cp38-cp38-linux_x86_64.whl\n"
   ]
  },
  {
   "cell_type": "code",
   "execution_count": 2,
   "metadata": {},
   "outputs": [
    {
     "name": "stdout",
     "output_type": "stream",
     "text": [
      "Collecting ipywidgetsNote: you may need to restart the kernel to use updated packages.\n",
      "\n",
      "  Downloading ipywidgets-8.1.1-py3-none-any.whl (139 kB)\n",
      "     -------------------------------------- 139.4/139.4 KB 1.2 MB/s eta 0:00:00\n",
      "Requirement already satisfied: comm>=0.1.3 in c:\\users\\ellyn\\documents\\github\\ict3104project\\3104venv\\lib\\site-packages (from ipywidgets) (0.1.4)\n",
      "Requirement already satisfied: ipython>=6.1.0 in c:\\users\\ellyn\\documents\\github\\ict3104project\\3104venv\\lib\\site-packages (from ipywidgets) (8.15.0)\n",
      "Collecting widgetsnbextension~=4.0.9\n",
      "  Downloading widgetsnbextension-4.0.9-py3-none-any.whl (2.3 MB)\n",
      "     ---------------------------------------- 2.3/2.3 MB 3.7 MB/s eta 0:00:00\n",
      "Requirement already satisfied: traitlets>=4.3.1 in c:\\users\\ellyn\\documents\\github\\ict3104project\\3104venv\\lib\\site-packages (from ipywidgets) (5.10.0)\n",
      "Collecting jupyterlab-widgets~=3.0.9\n",
      "  Downloading jupyterlab_widgets-3.0.9-py3-none-any.whl (214 kB)\n",
      "     -------------------------------------- 214.9/214.9 KB 3.2 MB/s eta 0:00:00\n",
      "Requirement already satisfied: prompt-toolkit!=3.0.37,<3.1.0,>=3.0.30 in c:\\users\\ellyn\\documents\\github\\ict3104project\\3104venv\\lib\\site-packages (from ipython>=6.1.0->ipywidgets) (3.0.39)\n",
      "Requirement already satisfied: exceptiongroup in c:\\users\\ellyn\\documents\\github\\ict3104project\\3104venv\\lib\\site-packages (from ipython>=6.1.0->ipywidgets) (1.1.3)\n",
      "Requirement already satisfied: pickleshare in c:\\users\\ellyn\\documents\\github\\ict3104project\\3104venv\\lib\\site-packages (from ipython>=6.1.0->ipywidgets) (0.7.5)\n",
      "Requirement already satisfied: backcall in c:\\users\\ellyn\\documents\\github\\ict3104project\\3104venv\\lib\\site-packages (from ipython>=6.1.0->ipywidgets) (0.2.0)\n",
      "Requirement already satisfied: matplotlib-inline in c:\\users\\ellyn\\documents\\github\\ict3104project\\3104venv\\lib\\site-packages (from ipython>=6.1.0->ipywidgets) (0.1.6)\n",
      "Requirement already satisfied: jedi>=0.16 in c:\\users\\ellyn\\documents\\github\\ict3104project\\3104venv\\lib\\site-packages (from ipython>=6.1.0->ipywidgets) (0.19.0)\n",
      "Requirement already satisfied: pygments>=2.4.0 in c:\\users\\ellyn\\documents\\github\\ict3104project\\3104venv\\lib\\site-packages (from ipython>=6.1.0->ipywidgets) (2.16.1)\n",
      "Requirement already satisfied: stack-data in c:\\users\\ellyn\\documents\\github\\ict3104project\\3104venv\\lib\\site-packages (from ipython>=6.1.0->ipywidgets) (0.6.2)\n",
      "Requirement already satisfied: decorator in c:\\users\\ellyn\\documents\\github\\ict3104project\\3104venv\\lib\\site-packages (from ipython>=6.1.0->ipywidgets) (5.1.1)\n",
      "Requirement already satisfied: colorama in c:\\users\\ellyn\\documents\\github\\ict3104project\\3104venv\\lib\\site-packages (from ipython>=6.1.0->ipywidgets) (0.4.6)\n",
      "Requirement already satisfied: parso<0.9.0,>=0.8.3 in c:\\users\\ellyn\\documents\\github\\ict3104project\\3104venv\\lib\\site-packages (from jedi>=0.16->ipython>=6.1.0->ipywidgets) (0.8.3)\n",
      "Requirement already satisfied: wcwidth in c:\\users\\ellyn\\documents\\github\\ict3104project\\3104venv\\lib\\site-packages (from prompt-toolkit!=3.0.37,<3.1.0,>=3.0.30->ipython>=6.1.0->ipywidgets) (0.2.6)\n",
      "Requirement already satisfied: executing>=1.2.0 in c:\\users\\ellyn\\documents\\github\\ict3104project\\3104venv\\lib\\site-packages (from stack-data->ipython>=6.1.0->ipywidgets) (1.2.0)\n",
      "Requirement already satisfied: asttokens>=2.1.0 in c:\\users\\ellyn\\documents\\github\\ict3104project\\3104venv\\lib\\site-packages (from stack-data->ipython>=6.1.0->ipywidgets) (2.4.0)\n",
      "Requirement already satisfied: pure-eval in c:\\users\\ellyn\\documents\\github\\ict3104project\\3104venv\\lib\\site-packages (from stack-data->ipython>=6.1.0->ipywidgets) (0.2.2)\n",
      "Requirement already satisfied: six>=1.12.0 in c:\\users\\ellyn\\documents\\github\\ict3104project\\3104venv\\lib\\site-packages (from asttokens>=2.1.0->stack-data->ipython>=6.1.0->ipywidgets) (1.16.0)\n",
      "Installing collected packages: widgetsnbextension, jupyterlab-widgets, ipywidgets\n",
      "Successfully installed ipywidgets-8.1.1 jupyterlab-widgets-3.0.9 widgetsnbextension-4.0.9\n"
     ]
    },
    {
     "name": "stderr",
     "output_type": "stream",
     "text": [
      "WARNING: You are using pip version 22.0.4; however, version 23.2.1 is available.\n",
      "You should consider upgrading via the 'c:\\Users\\ellyn\\Documents\\GitHub\\ICT3104Project\\3104venv\\Scripts\\python.exe -m pip install --upgrade pip' command.\n"
     ]
    }
   ],
   "source": []
  },
  {
   "cell_type": "code",
   "execution_count": 13,
   "metadata": {},
   "outputs": [
    {
     "name": "stdout",
     "output_type": "stream",
     "text": [
      "accelerate==0.23.0\n",
      "aiofiles==23.2.1\n",
      "altair==5.1.1\n",
      "annotated-types==0.5.0\n",
      "antlr4-python3-runtime==4.9.3\n",
      "anyio==3.7.1\n",
      "asttokens==2.4.0\n",
      "attrs==23.1.0\n",
      "backcall==0.2.0\n",
      "bitsandbytes==0.35.4\n",
      "certifi==2023.7.22\n",
      "charset-normalizer==3.2.0\n",
      "click==8.1.7\n",
      "colorama==0.4.6\n",
      "comm==0.1.4\n",
      "contourpy==1.1.1\n",
      "cycler==0.11.0\n",
      "debugpy==1.8.0\n",
      "decorator==5.1.1\n",
      "decord==0.6.0\n",
      "diffusers==0.11.1\n",
      "einops==0.6.1\n",
      "exceptiongroup==1.1.3\n",
      "executing==1.2.0\n",
      "fastapi==0.103.1\n",
      "ffmpy==0.3.1\n",
      "filelock==3.12.4\n",
      "fonttools==4.42.1\n",
      "fsspec==2023.9.2\n",
      "ftfy==6.1.1\n",
      "gradio==3.44.4\n",
      "gradio_client==0.5.1\n",
      "h11==0.14.0\n",
      "httpcore==0.18.0\n",
      "httpx==0.25.0\n",
      "huggingface-hub==0.17.3\n",
      "idna==3.4\n",
      "imageio-ffmpeg==0.4.9\n",
      "importlib-metadata==6.8.0\n",
      "importlib-resources==6.1.0\n",
      "ipykernel==6.25.2\n",
      "ipython==8.15.0\n",
      "jedi==0.19.0\n",
      "Jinja2==3.1.2\n",
      "jsonschema==4.19.1\n",
      "jsonschema-specifications==2023.7.1\n",
      "jupyter_client==8.3.1\n",
      "jupyter_core==5.3.1\n",
      "kiwisolver==1.4.5\n",
      "MarkupSafe==2.1.3\n",
      "matplotlib==3.8.0\n",
      "matplotlib-inline==0.1.6\n",
      "mpmath==1.3.0\n",
      "nest-asyncio==1.5.8\n",
      "networkx==3.1\n",
      "numpy==1.26.0\n",
      "omegaconf==2.3.0\n",
      "orjson==3.9.7\n",
      "packaging==23.1\n",
      "pandas==2.1.1\n",
      "parso==0.8.3\n",
      "pickleshare==0.7.5\n",
      "Pillow==10.0.1\n",
      "platformdirs==3.10.0\n",
      "prompt-toolkit==3.0.39\n",
      "psutil==5.9.5\n",
      "pure-eval==0.2.2\n",
      "pydantic==2.4.0\n",
      "pydantic_core==2.10.0\n",
      "pydub==0.25.1\n",
      "Pygments==2.16.1\n",
      "pyparsing==3.1.1\n",
      "python-dateutil==2.8.2\n",
      "python-multipart==0.0.6\n",
      "pytz==2023.3.post1\n",
      "pywin32==306\n",
      "PyYAML==6.0.1\n",
      "pyzmq==25.1.1\n",
      "referencing==0.30.2\n",
      "regex==2023.8.8\n",
      "requests==2.31.0\n",
      "rpds-py==0.10.3\n",
      "semantic-version==2.10.0\n",
      "six==1.16.0\n",
      "sniffio==1.3.0\n",
      "stack-data==0.6.2\n",
      "starlette==0.27.0\n",
      "sympy==1.12\n",
      "tokenizers==0.13.3\n",
      "toolz==0.12.0\n",
      "torch==2.0.1\n",
      "tornado==6.3.3\n",
      "tqdm==4.66.1\n",
      "traitlets==5.10.0\n",
      "transformers==4.26.0\n",
      "typing_extensions==4.8.0\n",
      "tzdata==2023.3\n",
      "urllib3==2.0.5\n",
      "uvicorn==0.23.2\n",
      "wcwidth==0.2.6\n",
      "websockets==11.0.3\n",
      "xformers==0.0.21\n",
      "zipp==3.17.0\n"
     ]
    }
   ],
   "source": [
    "!pip freeze"
   ]
  },
  {
   "cell_type": "code",
   "execution_count": null,
   "metadata": {},
   "outputs": [],
   "source": [
    "#@title Download pretrained model\n",
    "\n",
    "#@markdown Name/Path of the initial model.\n",
    "MODEL_NAME = \"YueMafighting/FollowYourPose_v1\" #@param {type:\"string\"}\n",
    "\n",
    "#@markdown If model should be download from a remote repo. Untick it if the model is loaded from a local path.\n",
    "download_pretrained_model = True #@param {type:\"boolean\"}\n",
    "if download_pretrained_model:\n",
    "    !git lfs install\n",
    "    !git clone https://huggingface.co/$MODEL_NAME checkpoints/$MODEL_NAME\n",
    "    MODEL_NAME = f\"./checkpoints/{MODEL_NAME}\"\n",
    "print(f\"[*] MODEL_NAME={MODEL_NAME}\")"
   ]
  },
  {
   "cell_type": "markdown",
   "metadata": {},
   "source": [
    "### Testing UI Input"
   ]
  },
  {
   "cell_type": "code",
   "execution_count": 3,
   "metadata": {},
   "outputs": [
    {
     "data": {
      "application/vnd.jupyter.widget-view+json": {
       "model_id": "a19339c5e19445ab876932a12864bdf5",
       "version_major": 2,
       "version_minor": 0
      },
      "text/plain": [
       "Text(value='', description='Name:', placeholder='Enter your name')"
      ]
     },
     "metadata": {},
     "output_type": "display_data"
    }
   ],
   "source": [
    "import ipywidgets as widgets\n",
    "from IPython.display import display\n",
    "\n",
    "# Create a text input widget\n",
    "text_input = widgets.Text(\n",
    "    value='',  # Initial value\n",
    "    placeholder='Enter your name',  # Placeholder text\n",
    "    description='Name:',  # Label for the input field\n",
    ")\n",
    "\n",
    "# Display the widget\n",
    "display(text_input)"
   ]
  },
  {
   "cell_type": "code",
   "execution_count": 5,
   "metadata": {},
   "outputs": [
    {
     "name": "stdout",
     "output_type": "stream",
     "text": [
      "You entered: 1235\n"
     ]
    }
   ],
   "source": [
    "user_input = text_input.value\n",
    "print(\"You entered:\", user_input)"
   ]
  },
  {
   "cell_type": "markdown",
   "metadata": {},
   "source": [
    "### Exploration"
   ]
  },
  {
   "cell_type": "code",
   "execution_count": null,
   "metadata": {},
   "outputs": [],
   "source": [
    "#Exploration"
   ]
  },
  {
   "cell_type": "markdown",
   "metadata": {},
   "source": [
    "### Training"
   ]
  },
  {
   "cell_type": "code",
   "execution_count": null,
   "metadata": {},
   "outputs": [],
   "source": [
    "#@Training"
   ]
  },
  {
   "cell_type": "markdown",
   "metadata": {},
   "source": [
    "### Inference"
   ]
  },
  {
   "cell_type": "code",
   "execution_count": null,
   "metadata": {},
   "outputs": [],
   "source": [
    "#@Inference"
   ]
  },
  {
   "cell_type": "code",
   "execution_count": null,
   "metadata": {},
   "outputs": [],
   "source": [
    "#Generating"
   ]
  }
 ],
 "metadata": {
  "interpreter": {
   "hash": "65396ca0ed8b52c09a93b593db60d056adcdff340168f3496033a54f65dcd0fb"
  },
  "kernelspec": {
   "display_name": "Python 3.11.4 64-bit",
   "language": "python",
   "name": "python3"
  },
  "language_info": {
   "codemirror_mode": {
    "name": "ipython",
    "version": 3
   },
   "file_extension": ".py",
   "mimetype": "text/x-python",
   "name": "python",
   "nbconvert_exporter": "python",
   "pygments_lexer": "ipython3",
   "version": "3.10.5"
  },
  "orig_nbformat": 4
 },
 "nbformat": 4,
 "nbformat_minor": 2
}
