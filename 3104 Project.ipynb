{
 "cells": [
  {
   "cell_type": "code",
   "execution_count": 1,
   "metadata": {},
   "outputs": [],
   "source": [
    "#@title Install requirements\n",
    "\n",
    "!git clone https://github.com/mayuelala/FollowYourPose.git /content/FollowYourPose\n",
    "%cd /content/FollowYourPose\n",
    "# %pip install -r requirements.txt\n",
    "%pip install -q -U --pre triton\n",
    "%pip install -q diffusers[torch]==0.11.1 transformers==4.26.0 bitsandbytes==0.35.4 \\\n",
    "decord accelerate omegaconf einops ftfy gradio imageio-ffmpeg xformers\n",
    "\n",
    "\n"
   ]
  },
  {
   "cell_type": "code",
   "execution_count": null,
   "metadata": {},
   "outputs": [],
   "source": [
    "#@title Download pretrained model\n",
    "\n",
    "#@markdown Name/Path of the initial model.\n",
    "MODEL_NAME = \"YueMafighting/FollowYourPose_v1\" #@param {type:\"string\"}\n",
    "\n",
    "#@markdown If model should be download from a remote repo. Untick it if the model is loaded from a local path.\n",
    "download_pretrained_model = True #@param {type:\"boolean\"}\n",
    "if download_pretrained_model:\n",
    "    !git lfs install\n",
    "    !git clone https://huggingface.co/$MODEL_NAME checkpoints/$MODEL_NAME\n",
    "    MODEL_NAME = f\"./checkpoints/{MODEL_NAME}\"\n",
    "print(f\"[*] MODEL_NAME={MODEL_NAME}\")"
   ]
  },
  {
   "cell_type": "code",
   "execution_count": null,
   "metadata": {},
   "outputs": [],
   "source": [
    "#@Inference"
   ]
  },
  {
   "cell_type": "code",
   "execution_count": null,
   "metadata": {},
   "outputs": [],
   "source": [
    "#@Training"
   ]
  },
  {
   "cell_type": "code",
   "execution_count": null,
   "metadata": {},
   "outputs": [],
   "source": [
    "#Generating"
   ]
  }
 ],
 "metadata": {
  "interpreter": {
   "hash": "65396ca0ed8b52c09a93b593db60d056adcdff340168f3496033a54f65dcd0fb"
  },
  "kernelspec": {
   "display_name": "Python 3.11.4 64-bit",
   "language": "python",
   "name": "python3"
  },
  "language_info": {
   "codemirror_mode": {
    "name": "ipython",
    "version": 3
   },
   "file_extension": ".py",
   "mimetype": "text/x-python",
   "name": "python",
   "nbconvert_exporter": "python",
   "pygments_lexer": "ipython3",
   "version": "3.11.4"
  },
  "orig_nbformat": 4
 },
 "nbformat": 4,
 "nbformat_minor": 2
}
