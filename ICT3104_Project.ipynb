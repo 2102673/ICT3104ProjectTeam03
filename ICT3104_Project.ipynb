{
  "cells": [
    {
      "cell_type": "markdown",
      "metadata": {
        "id": "JkTUW-4t576J"
      },
      "source": [
        "# **Setup**"
      ]
    },
    {
      "cell_type": "code",
      "execution_count": 3,
      "metadata": {},
      "outputs": [],
      "source": [
        "#@title initialize paths\n",
        "import os\n",
        "\n",
        "home_path = os.path.join(os.getcwd(), \"content\\\\FollowYourPose\")\n",
        "os.makedirs(home_path, exist_ok=True)\n",
        "data_path = f\"{home_path}\\\\data\"\n",
        "checkpoint_path = f\"{home_path}/checkpoints\""
      ]
    },
    {
      "cell_type": "code",
      "execution_count": 7,
      "metadata": {
        "colab": {
          "base_uri": "https://localhost:8080/"
        },
        "id": "WpNe2FtMBvEm",
        "outputId": "a446ac82-ac8e-487a-f50c-0ea806749892"
      },
      "outputs": [
        {
          "name": "stdout",
          "output_type": "stream",
          "text": [
            "c:\\Users\\there\\Desktop\\SIT\\Year3 Tri1\\3104 Software Management\\Project\\project\\ICT3104Project\\content\\FollowYourPose\n"
          ]
        },
        {
          "name": "stderr",
          "output_type": "stream",
          "text": [
            "Cloning into '.'...\n"
          ]
        },
        {
          "name": "stdout",
          "output_type": "stream",
          "text": [
            "Note: you may need to restart the kernel to use updated packages.\n"
          ]
        },
        {
          "name": "stderr",
          "output_type": "stream",
          "text": [
            "ERROR: pip's dependency resolver does not currently take into account all the packages that are installed. This behaviour is the source of the following dependency conflicts.\n",
            "torchvision 0.15.1 requires torch==2.0.0, but you have torch 2.0.1 which is incompatible.\n",
            "\n",
            "[notice] A new release of pip is available: 23.1.2 -> 23.3.1\n",
            "[notice] To update, run: python.exe -m pip install --upgrade pip\n"
          ]
        },
        {
          "name": "stdout",
          "output_type": "stream",
          "text": [
            "Requirement already satisfied: av in c:\\users\\there\\appdata\\local\\programs\\python\\python311\\lib\\site-packages (10.0.0)\n"
          ]
        },
        {
          "name": "stderr",
          "output_type": "stream",
          "text": [
            "\n",
            "[notice] A new release of pip is available: 23.1.2 -> 23.3.1\n",
            "[notice] To update, run: python.exe -m pip install --upgrade pip\n",
            "'apt-get' is not recognized as an internal or external command,\n",
            "operable program or batch file.\n"
          ]
        },
        {
          "name": "stdout",
          "output_type": "stream",
          "text": [
            "Found existing installation: torch 2.0.1\n",
            "Uninstalling torch-2.0.1:\n",
            "  Successfully uninstalled torch-2.0.1\n",
            "Found existing installation: torchvision 0.15.1\n",
            "Uninstalling torchvision-0.15.1:\n",
            "  Successfully uninstalled torchvision-0.15.1\n"
          ]
        },
        {
          "name": "stderr",
          "output_type": "stream",
          "text": [
            "WARNING: Skipping triton as it is not installed.\n"
          ]
        },
        {
          "name": "stdout",
          "output_type": "stream",
          "text": [
            "Looking in links: https://download.pytorch.org/whl/cu118/touch_stable.html\n",
            "Collecting torch==2.0.0\n",
            "  Using cached torch-2.0.0-cp311-cp311-win_amd64.whl (172.3 MB)\n",
            "Collecting torchvision\n",
            "  Using cached torchvision-0.16.0-cp311-cp311-win_amd64.whl (1.3 MB)\n",
            "Requirement already satisfied: filelock in c:\\users\\there\\appdata\\local\\programs\\python\\python311\\lib\\site-packages (from torch==2.0.0) (3.12.4)\n",
            "Requirement already satisfied: typing-extensions in c:\\users\\there\\appdata\\local\\programs\\python\\python311\\lib\\site-packages (from torch==2.0.0) (4.8.0)\n",
            "Requirement already satisfied: sympy in c:\\users\\there\\appdata\\local\\programs\\python\\python311\\lib\\site-packages (from torch==2.0.0) (1.12)\n",
            "Requirement already satisfied: networkx in c:\\users\\there\\appdata\\local\\programs\\python\\python311\\lib\\site-packages (from torch==2.0.0) (3.1)\n",
            "Requirement already satisfied: jinja2 in c:\\users\\there\\appdata\\local\\programs\\python\\python311\\lib\\site-packages (from torch==2.0.0) (3.1.2)\n",
            "Requirement already satisfied: numpy in c:\\users\\there\\appdata\\local\\programs\\python\\python311\\lib\\site-packages (from torchvision) (1.25.2)\n",
            "Requirement already satisfied: requests in c:\\users\\there\\appdata\\local\\programs\\python\\python311\\lib\\site-packages (from torchvision) (2.31.0)\n",
            "INFO: pip is looking at multiple versions of torchvision to determine which version is compatible with other requirements. This could take a while.\n",
            "  Using cached torchvision-0.15.2-cp311-cp311-win_amd64.whl (1.2 MB)\n",
            "  Using cached torchvision-0.15.1-cp311-cp311-win_amd64.whl (1.2 MB)\n",
            "Requirement already satisfied: pillow!=8.3.*,>=5.3.0 in c:\\users\\there\\appdata\\local\\programs\\python\\python311\\lib\\site-packages (from torchvision) (10.0.0)\n",
            "Requirement already satisfied: MarkupSafe>=2.0 in c:\\users\\there\\appdata\\local\\programs\\python\\python311\\lib\\site-packages (from jinja2->torch==2.0.0) (2.1.3)\n",
            "Requirement already satisfied: charset-normalizer<4,>=2 in c:\\users\\there\\appdata\\local\\programs\\python\\python311\\lib\\site-packages (from requests->torchvision) (3.2.0)\n",
            "Requirement already satisfied: idna<4,>=2.5 in c:\\users\\there\\appdata\\local\\programs\\python\\python311\\lib\\site-packages (from requests->torchvision) (3.4)\n",
            "Requirement already satisfied: urllib3<3,>=1.21.1 in c:\\users\\there\\appdata\\local\\programs\\python\\python311\\lib\\site-packages (from requests->torchvision) (2.0.4)\n",
            "Requirement already satisfied: certifi>=2017.4.17 in c:\\users\\there\\appdata\\local\\programs\\python\\python311\\lib\\site-packages (from requests->torchvision) (2023.7.22)\n",
            "Requirement already satisfied: mpmath>=0.19 in c:\\users\\there\\appdata\\local\\programs\\python\\python311\\lib\\site-packages (from sympy->torch==2.0.0) (1.3.0)\n",
            "Installing collected packages: torch, torchvision\n",
            "Successfully installed torch-2.0.0 torchvision-0.15.1\n"
          ]
        },
        {
          "name": "stderr",
          "output_type": "stream",
          "text": [
            "ERROR: pip's dependency resolver does not currently take into account all the packages that are installed. This behaviour is the source of the following dependency conflicts.\n",
            "xformers 0.0.21 requires torch==2.0.1, but you have torch 2.0.0 which is incompatible.\n",
            "\n",
            "[notice] A new release of pip is available: 23.1.2 -> 23.3.1\n",
            "[notice] To update, run: python.exe -m pip install --upgrade pip\n",
            "ERROR: Could not find a version that satisfies the requirement xformers==0.0.19 (from versions: 0.0.1, 0.0.2, 0.0.3, 0.0.4, 0.0.5, 0.0.6, 0.0.7, 0.0.8, 0.0.9, 0.0.10, 0.0.11, 0.0.12, 0.0.13, 0.0.16rc424, 0.0.16rc425, 0.0.16, 0.0.20, 0.0.21, 0.0.22, 0.0.22.post4, 0.0.22.post7, 0.0.23.dev660, 0.0.23.dev661, 0.0.23.dev662, 0.0.23.dev670, 0.0.23.dev672)\n",
            "ERROR: No matching distribution found for xformers==0.0.19\n",
            "\n",
            "[notice] A new release of pip is available: 23.1.2 -> 23.3.1\n",
            "[notice] To update, run: python.exe -m pip install --upgrade pip\n",
            "WARNING: Skipping nvidia-cudnn-cu11 as it is not installed.\n",
            "ERROR: Could not find a version that satisfies the requirement nvidia-cudnn-cu11==8.6.0.163 (from versions: 0.0.1.dev5, 8.9.4.19, 8.9.4.25, 8.9.5.29)\n",
            "ERROR: No matching distribution found for nvidia-cudnn-cu11==8.6.0.163\n",
            "\n",
            "[notice] A new release of pip is available: 23.1.2 -> 23.3.1\n",
            "[notice] To update, run: python.exe -m pip install --upgrade pip\n"
          ]
        }
      ],
      "source": [
        "#@title Install requirements\n",
        "\n",
        "%pip install -q diffusers[torch]==0.11.1 transformers==4.26.0 bitsandbytes==0.35.4 \\\n",
        "decord accelerate omegaconf einops ftfy gradio imageio-ffmpeg xformers\n",
        "\n",
        "!pip install av\n",
        "\n",
        "!apt-get install imagemagick\n",
        "\n",
        "!pip uninstall torch torchvision triton -y\n",
        "!pip install torch==2.0.0 torchvision -f https://download.pytorch.org/whl/cu118/touch_stable.html\n",
        "!pip install xformers==0.0.19 triton==2.0.0 -U\n",
        "!pip uninstall nvidia-cudnn-cu11 -y\n",
        "!pip install nvidia-cudnn-cu11==8.6.0.163"
      ]
    },
    {
      "cell_type": "markdown",
      "metadata": {
        "id": "rbhxnrSP6izP"
      },
      "source": [
        "# **Data Exploration**"
      ]
    },
    {
      "cell_type": "code",
      "execution_count": 1,
      "metadata": {
        "colab": {
          "base_uri": "https://localhost:8080/",
          "height": 109
        },
        "id": "faToKcwb1rNt",
        "outputId": "986a0482-934c-43a8-f4c4-e8fb6f01de0a"
      },
      "outputs": [
        {
          "name": "stdout",
          "output_type": "stream",
          "text": [
            "[WinError 2] The system cannot find the file specified: '$data_path'\n",
            "c:\\Users\\there\\Desktop\\SIT\\Year3 Tri1\\3104 Software Management\\Project\\project\\ICT3104Project\n"
          ]
        },
        {
          "ename": "ModuleNotFoundError",
          "evalue": "No module named 'google'",
          "output_type": "error",
          "traceback": [
            "\u001b[1;31m---------------------------------------------------------------------------\u001b[0m",
            "\u001b[1;31mModuleNotFoundError\u001b[0m                       Traceback (most recent call last)",
            "\u001b[1;32mc:\\Users\\there\\Desktop\\SIT\\Year3 Tri1\\3104 Software Management\\Project\\project\\ICT3104Project\\ICT3104_Project.ipynb Cell 5\u001b[0m line \u001b[0;36m8\n\u001b[0;32m      <a href='vscode-notebook-cell:/c%3A/Users/there/Desktop/SIT/Year3%20Tri1/3104%20Software%20Management/Project/project/ICT3104Project/ICT3104_Project.ipynb#W4sZmlsZQ%3D%3D?line=5'>6</a>\u001b[0m \u001b[39mimport\u001b[39;00m \u001b[39mos\u001b[39;00m\n\u001b[0;32m      <a href='vscode-notebook-cell:/c%3A/Users/there/Desktop/SIT/Year3%20Tri1/3104%20Software%20Management/Project/project/ICT3104Project/ICT3104_Project.ipynb#W4sZmlsZQ%3D%3D?line=6'>7</a>\u001b[0m \u001b[39mimport\u001b[39;00m \u001b[39mshutil\u001b[39;00m\n\u001b[1;32m----> <a href='vscode-notebook-cell:/c%3A/Users/there/Desktop/SIT/Year3%20Tri1/3104%20Software%20Management/Project/project/ICT3104Project/ICT3104_Project.ipynb#W4sZmlsZQ%3D%3D?line=7'>8</a>\u001b[0m \u001b[39mfrom\u001b[39;00m \u001b[39mgoogle\u001b[39;00m\u001b[39m.\u001b[39;00m\u001b[39mcolab\u001b[39;00m \u001b[39mimport\u001b[39;00m files\n\u001b[0;32m     <a href='vscode-notebook-cell:/c%3A/Users/there/Desktop/SIT/Year3%20Tri1/3104%20Software%20Management/Project/project/ICT3104Project/ICT3104_Project.ipynb#W4sZmlsZQ%3D%3D?line=9'>10</a>\u001b[0m \u001b[39m# Create a function to upload and organize files\u001b[39;00m\n\u001b[0;32m     <a href='vscode-notebook-cell:/c%3A/Users/there/Desktop/SIT/Year3%20Tri1/3104%20Software%20Management/Project/project/ICT3104Project/ICT3104_Project.ipynb#W4sZmlsZQ%3D%3D?line=10'>11</a>\u001b[0m \u001b[39mdef\u001b[39;00m \u001b[39mupload_and_organize_files\u001b[39m():\n\u001b[0;32m     <a href='vscode-notebook-cell:/c%3A/Users/there/Desktop/SIT/Year3%20Tri1/3104%20Software%20Management/Project/project/ICT3104Project/ICT3104_Project.ipynb#W4sZmlsZQ%3D%3D?line=11'>12</a>\u001b[0m     \u001b[39m# Upload the files\u001b[39;00m\n",
            "\u001b[1;31mModuleNotFoundError\u001b[0m: No module named 'google'"
          ]
        }
      ],
      "source": [
        "#@title Upload charades video into Data folder\n",
        "\n",
        "#Change directory into data folder\n",
        "%cd $data_path\n",
        "\n",
        "import os\n",
        "import shutil\n",
        "from google.colab import files\n",
        "\n",
        "# Create a function to upload and organize files\n",
        "def upload_and_organize_files():\n",
        "    # Upload the files\n",
        "    uploaded = files.upload()\n",
        "\n",
        "    for file_name, file_content in uploaded.items():\n",
        "        # Extract the file name without the extension\n",
        "        file_name_without_extension = os.path.splitext(file_name)[0]\n",
        "\n",
        "        # Create a directory with the same name as the file\n",
        "        file_directory = os.path.join(data_path, file_name_without_extension)\n",
        "        os.makedirs(file_directory, exist_ok=True)\n",
        "\n",
        "        # Save the file in its respective directory\n",
        "        file_path = os.path.join(file_directory, file_name)\n",
        "        with open(file_path, 'wb') as f:\n",
        "            f.write(file_content)\n",
        "\n",
        "        # Use shutil.move to move the file to the target directory\n",
        "        shutil.move(file_name, os.path.join(file_directory, file_name))\n",
        "\n",
        "        print(f'Saved file {file_name} in directory {file_name_without_extension}')\n",
        "\n",
        "# Call the function to upload and organize files\n",
        "upload_and_organize_files()"
      ]
    },
    {
      "cell_type": "code",
      "execution_count": null,
      "metadata": {
        "id": "PxRXj63IHWmF"
      },
      "outputs": [],
      "source": [
        "#@title Create Dropdown class\n",
        "\n",
        "import os\n",
        "import ipywidgets as widgets\n",
        "from ipywidgets import Video, HBox\n",
        "from IPython.display import display, clear_output\n",
        "\n",
        "# A dropdown class to get all folders and videos within each folder\n",
        "class FolderDropdown:\n",
        "    def __init__(self, data_path, toDisplayVideo=False):\n",
        "        self.data_path = data_path\n",
        "        self.folder_names = [f for f in os.listdir(data_path) if os.path.isdir(os.path.join(data_path, f))]\n",
        "        self.dropdown = widgets.Dropdown(\n",
        "            options=['--Select a folder--'] + self.folder_names,\n",
        "            description='Select a folder:'\n",
        "        )\n",
        "        self.video_dropdown = widgets.Dropdown(\n",
        "            options=['--Select a video--'],\n",
        "            description='Select a video:'\n",
        "        )\n",
        "        self.output = widgets.Output()\n",
        "        self.dropdown.observe(self.on_dropdown_change)\n",
        "        self.selected_folder = '--Select a folder--'\n",
        "        self.selected_video = '--Select a video--'\n",
        "        self.toDisplay = toDisplayVideo\n",
        "\n",
        "    def display(self):\n",
        "        display(self.dropdown)\n",
        "        display(self.video_dropdown)\n",
        "        display(self.output)\n",
        "\n",
        "    def on_dropdown_change(self, change):\n",
        "        with self.output:\n",
        "            self.selected_folder = self.dropdown.get_interact_value()\n",
        "            clear_output(wait=True)\n",
        "\n",
        "            if change['type'] == 'change' and change['name'] == 'value' and not str(change['new']) == \"--Select a folder--\":\n",
        "                selected_folder = str(change['new'])\n",
        "                folder_path = os.path.join(self.data_path, selected_folder)\n",
        "                condition = lambda file_name: not file_name.startswith(\".ipynb\")\n",
        "                video_files = [f for f in os.listdir(folder_path) if condition(f)]\n",
        "\n",
        "                self.video_dropdown.options = ['--Select a video--'] + video_files\n",
        "                self.video_dropdown.observe(self.on_video_dropdown_change)\n",
        "\n",
        "            elif str(change['new']) == \"--Select a folder--\":\n",
        "              self.video_dropdown.options = ['--Select a video--']\n",
        "\n",
        "    def on_video_dropdown_change(self, change):\n",
        "        with self.output:\n",
        "          self.selected_video = self.video_dropdown.get_interact_value()\n",
        "\n",
        "          if change['type'] == 'change' and change['name'] == 'value' and not str(change['new']) == \"--Select a video--\":\n",
        "            selected_video_name = str(change['new'])\n",
        "            video_path = os.path.join(self.data_path, self.selected_folder, self.selected_video)\n",
        "            if(self.toDisplay):\n",
        "              video_player = Video.from_file(video_path)\n",
        "              display(video_player)\n",
        "\n",
        "    def get_Selected_Folder(self):\n",
        "        return self.selected_folder\n",
        "\n",
        "    def get_Selected_Video(self):\n",
        "        return self.selected_video\n",
        "\n",
        "    def get_Full_Video_Path(self):\n",
        "        return os.path.join(self.data_path, self.selected_folder, self.selected_video)\n"
      ]
    },
    {
      "cell_type": "code",
      "execution_count": null,
      "metadata": {
        "id": "wF7Uod4cEVVO"
      },
      "outputs": [],
      "source": [
        "dropdown = FolderDropdown(data_path, toDisplayVideo=True)\n",
        "dropdown.display()"
      ]
    },
    {
      "cell_type": "code",
      "execution_count": null,
      "metadata": {
        "colab": {
          "base_uri": "https://localhost:8080/"
        },
        "id": "lVmyAnYLPeyF",
        "outputId": "a651eed8-cbbe-4581-b83a-4ac721f8958b"
      },
      "outputs": [
        {
          "name": "stdout",
          "output_type": "stream",
          "text": [
            "/content/FollowYourPose/data/00MFE/00MFE.mp4\n"
          ]
        }
      ],
      "source": [
        "#@title Get selected Video\n",
        "selected_Video = dropdown.get_Full_Video_Path()\n",
        "print(selected_Video)"
      ]
    },
    {
      "cell_type": "markdown",
      "metadata": {
        "id": "sVHZUK_Z6Un3"
      },
      "source": [
        "# **Inference Section**"
      ]
    },
    {
      "cell_type": "code",
      "execution_count": null,
      "metadata": {
        "cellView": "form",
        "id": "1oTXo9BWuQEN"
      },
      "outputs": [],
      "source": [
        "#@title Edit Config File\n",
        "\n",
        "#@markdown Setup Config file for inference\n",
        "from omegaconf import OmegaConf\n",
        "\n",
        "CONFIG_NAME = \"configs/pose_sample.yaml\" #@param {type:\"string\"}\n",
        "\n",
        "prompts = \"Iron man on the beach\" #@param {type:\"string\"}\n",
        "video_length = 24 #@param {type:\"number\"}\n",
        "width = 512 #@param {type:\"number\"}\n",
        "height = 512 #@param {type:\"number\"}\n",
        "\n",
        "config = {\n",
        "  \"pretrained_model_path\": \"./checkpoints/stable-diffusion-v1-4\",\n",
        "  \"output_dir\": \"output\",\n",
        "  \"validation_data\": {\n",
        "    \"prompts\": [\n",
        "      prompts\n",
        "    ],\n",
        "    \"video_length\": video_length,\n",
        "    \"width\": width,\n",
        "    \"height\": height,\n",
        "    \"num_inference_steps\": 50,\n",
        "    \"guidance_scale\": 12.5,\n",
        "    \"use_inv_latent\": False,\n",
        "    \"num_inv_steps\": 50,\n",
        "    \"dataset_set\": \"val\"\n",
        "  },\n",
        "  \"train_batch_size\": 1,\n",
        "  \"validation_steps\": 100,\n",
        "  \"resume_from_checkpoint\": \"./checkpoints/followyourpose_checkpoint-1000\",\n",
        "  \"seed\": 33,\n",
        "  \"mixed_precision\": \"no\",\n",
        "  \"gradient_checkpointing\": False,\n",
        "  \"enable_xformers_memory_efficient_attention\": True\n",
        "}\n",
        "\n",
        "OmegaConf.save(config, CONFIG_NAME)\n"
      ]
    },
    {
      "cell_type": "code",
      "execution_count": null,
      "metadata": {
        "cellView": "form",
        "colab": {
          "base_uri": "https://localhost:8080/"
        },
        "id": "00uifCumuXST",
        "outputId": "7feea596-32ae-4eb6-af2d-3be4a23eed8c"
      },
      "outputs": [
        {
          "name": "stdout",
          "output_type": "stream",
          "text": [
            "/content/FollowYourPose\n",
            "2023-10-14 15:40:43.350269: I tensorflow/core/platform/cpu_feature_guard.cc:182] This TensorFlow binary is optimized to use available CPU instructions in performance-critical operations.\n",
            "To enable the following instructions: AVX2 FMA, in other operations, rebuild TensorFlow with the appropriate compiler flags.\n",
            "2023-10-14 15:40:46.205251: W tensorflow/compiler/tf2tensorrt/utils/py_utils.cc:38] TF-TRT Warning: Could not find TensorRT\n",
            "The following values were not passed to `accelerate launch` and had defaults used instead:\n",
            "\t`--num_processes` was set to a value of `0`\n",
            "\t`--num_machines` was set to a value of `1`\n",
            "\t`--mixed_precision` was set to a value of `'no'`\n",
            "\t`--dynamo_backend` was set to a value of `'no'`\n",
            "To avoid this warning pass in values for each of the problematic parameters or run `accelerate config`.\n",
            "2023-10-14 15:40:57.975681: W tensorflow/compiler/tf2tensorrt/utils/py_utils.cc:38] TF-TRT Warning: Could not find TensorRT\n",
            "WARNING: All log messages before absl::InitializeLog() is called are written to STDERR\n",
            "I0000 00:00:1697298061.939081    3486 tfrt_cpu_pjrt_client.cc:349] TfrtCpuClient created.\n",
            "No GPU/TPU found, falling back to CPU. (Set TF_CPP_MIN_LOG_LEVEL=0 and rerun for more info.)\n",
            "10/14/2023 15:41:04 - INFO - __main__ - Distributed environment: NO\n",
            "Num processes: 1\n",
            "Process index: 0\n",
            "Local process index: 0\n",
            "Device: cpu\n",
            "\n",
            "Mixed precision type: no\n",
            "\n",
            "{'prediction_type', 'variance_type'} was not found in config. Values will be initialized to default values.\n",
            "{'norm_num_groups'} was not found in config. Values will be initialized to default values.\n",
            "{'class_embed_type', 'resnet_time_scale_shift', 'upcast_attention', 'num_class_embeds', 'use_linear_projection', 'dual_cross_attention', 'only_cross_attention', 'mid_block_type'} was not found in config. Values will be initialized to default values.\n",
            "Traceback (most recent call last):\n",
            "  File \"/content/FollowYourPose/txt2video.py\", line 185, in <module>\n",
            "    main(**OmegaConf.load(args.config), skeleton_path = args.skeleton_path)\n",
            "  File \"/content/FollowYourPose/txt2video.py\", line 104, in main\n",
            "    unet.enable_xformers_memory_efficient_attention()\n",
            "  File \"/usr/local/lib/python3.10/dist-packages/diffusers/modeling_utils.py\", line 215, in enable_xformers_memory_efficient_attention\n",
            "    self.set_use_memory_efficient_attention_xformers(True)\n",
            "  File \"/usr/local/lib/python3.10/dist-packages/diffusers/modeling_utils.py\", line 203, in set_use_memory_efficient_attention_xformers\n",
            "    fn_recursive_set_mem_eff(module)\n",
            "  File \"/usr/local/lib/python3.10/dist-packages/diffusers/modeling_utils.py\", line 199, in fn_recursive_set_mem_eff\n",
            "    fn_recursive_set_mem_eff(child)\n",
            "  File \"/usr/local/lib/python3.10/dist-packages/diffusers/modeling_utils.py\", line 199, in fn_recursive_set_mem_eff\n",
            "    fn_recursive_set_mem_eff(child)\n",
            "  File \"/usr/local/lib/python3.10/dist-packages/diffusers/modeling_utils.py\", line 199, in fn_recursive_set_mem_eff\n",
            "    fn_recursive_set_mem_eff(child)\n",
            "  File \"/usr/local/lib/python3.10/dist-packages/diffusers/modeling_utils.py\", line 196, in fn_recursive_set_mem_eff\n",
            "    module.set_use_memory_efficient_attention_xformers(valid)\n",
            "  File \"/usr/local/lib/python3.10/dist-packages/diffusers/modeling_utils.py\", line 203, in set_use_memory_efficient_attention_xformers\n",
            "    fn_recursive_set_mem_eff(module)\n",
            "  File \"/usr/local/lib/python3.10/dist-packages/diffusers/modeling_utils.py\", line 199, in fn_recursive_set_mem_eff\n",
            "    fn_recursive_set_mem_eff(child)\n",
            "  File \"/usr/local/lib/python3.10/dist-packages/diffusers/modeling_utils.py\", line 196, in fn_recursive_set_mem_eff\n",
            "    module.set_use_memory_efficient_attention_xformers(valid)\n",
            "  File \"/content/FollowYourPose/followyourpose/models/attention.py\", line 215, in set_use_memory_efficient_attention_xformers\n",
            "    raise ValueError(\n",
            "ValueError: torch.cuda.is_available() should be True but is False. xformers' memory efficient attention is only available for GPU \n",
            "Traceback (most recent call last):\n",
            "  File \"/usr/local/bin/accelerate\", line 8, in <module>\n",
            "    sys.exit(main())\n",
            "  File \"/usr/local/lib/python3.10/dist-packages/accelerate/commands/accelerate_cli.py\", line 47, in main\n",
            "    args.func(args)\n",
            "  File \"/usr/local/lib/python3.10/dist-packages/accelerate/commands/launch.py\", line 986, in launch_command\n",
            "    simple_launcher(args)\n",
            "  File \"/usr/local/lib/python3.10/dist-packages/accelerate/commands/launch.py\", line 628, in simple_launcher\n",
            "    raise subprocess.CalledProcessError(returncode=process.returncode, cmd=cmd)\n",
            "subprocess.CalledProcessError: Command '['/usr/bin/python3', 'txt2video.py', '--config=configs/pose_sample.yaml', '--skeleton_path=./pose_example/vis_ikun_pose1.MOV']' returned non-zero exit status 1.\n"
          ]
        }
      ],
      "source": [
        "#@title Running Inference\n",
        "\n",
        "!pwd\n",
        "!TORCH_DISTRIBUTED_DEBUG=DETAIL accelerate launch txt2video.py --config=\"configs/pose_sample.yaml\"  --skeleton_path=\"./pose_example/vis_ikun_pose1.MOV\"\n"
      ]
    },
    {
      "cell_type": "markdown",
      "metadata": {
        "id": "g2fzAVVn78q3"
      },
      "source": [
        "# **MM Pose Section**"
      ]
    },
    {
      "cell_type": "code",
      "execution_count": null,
      "metadata": {
        "colab": {
          "base_uri": "https://localhost:8080/"
        },
        "id": "fcbjo8ffju5z",
        "outputId": "e318ccea-46b5-41c3-f493-3ce50799fca2"
      },
      "outputs": [
        {
          "name": "stdout",
          "output_type": "stream",
          "text": [
            "/content/FollowYourPose\n",
            "Fetching Space from: https://huggingface.co/spaces/YueMafighting/mmpose-estimation\n",
            "Loaded as API: https://yuemafighting-mmpose-estimation.hf.space ✔\n"
          ]
        }
      ],
      "source": [
        "#@title Load API\n",
        "%cd /content/FollowYourPose/\n",
        "from inference_followyourpose import *\n",
        "config_runner = merge_config_then_run()"
      ]
    },
    {
      "cell_type": "code",
      "execution_count": null,
      "metadata": {
        "colab": {
          "base_uri": "https://localhost:8080/",
          "height": 357,
          "referenced_widgets": [
            "8729c260e2244edbadc004b423334e4d",
            "bac68c612dbc435fb2e6857f1d65561d",
            "e10dccc743e04d06b9151d072ee2cb82",
            "c321e88e89434edf860d7d089aa6ec1b",
            "7f020a34be484ca8b04e277684a9f9df",
            "483ee0784d0846c1a0c2a36c7e2b4873",
            "0bd941ced99c4cba95921dd57aa17f59",
            "884d994a0ffd40e5b9ff13f49fdf27d4",
            "84d06de7361641319ba6de6e3f1f135d",
            "2ca340aec13b42df922b9d4954a8c2d4"
          ]
        },
        "id": "F7oUBqp7MZaf",
        "outputId": "f312fe94-fffd-49c4-e9f1-0dc4c9a8296d"
      },
      "outputs": [
        {
          "data": {
            "application/vnd.jupyter.widget-view+json": {
              "model_id": "8729c260e2244edbadc004b423334e4d",
              "version_major": 2,
              "version_minor": 0
            },
            "text/plain": [
              "Dropdown(description='Select a folder:', options=('--Select a folder--', 'X8AP2'), value='--Select a folder--'…"
            ]
          },
          "metadata": {},
          "output_type": "display_data"
        },
        {
          "data": {
            "application/vnd.jupyter.widget-view+json": {
              "model_id": "c321e88e89434edf860d7d089aa6ec1b",
              "version_major": 2,
              "version_minor": 0
            },
            "text/plain": [
              "Dropdown(description='Select a video:', options=('--Select a video--',), value='--Select a video--')"
            ]
          },
          "metadata": {},
          "output_type": "display_data"
        },
        {
          "data": {
            "application/vnd.jupyter.widget-view+json": {
              "model_id": "0bd941ced99c4cba95921dd57aa17f59",
              "version_major": 2,
              "version_minor": 0
            },
            "text/plain": [
              "Output()"
            ]
          },
          "metadata": {},
          "output_type": "display_data"
        }
      ],
      "source": [
        "#@title edit parameters\n",
        "\n",
        "#Select the original video\n",
        "dropdown = FolderDropdown(data_path, toDisplayVideo=True)\n",
        "dropdown.display()"
      ]
    },
    {
      "cell_type": "code",
      "execution_count": null,
      "metadata": {
        "colab": {
          "base_uri": "https://localhost:8080/"
        },
        "id": "7vYxojdJNXmI",
        "outputId": "5d21bdc9-0a11-4fdf-89e6-dbdc60991c9d"
      },
      "outputs": [
        {
          "name": "stdout",
          "output_type": "stream",
          "text": [
            "/content/FollowYourPose/data/X8AP2/X8AP2.mp4\n"
          ]
        }
      ],
      "source": [
        "#Get the full path, folder name and video name from the FolderDropdown object\n",
        "#(Run this after dropdown selection)\n",
        "video_path=dropdown.get_Full_Video_Path()\n",
        "folder_path = dropdown.get_Selected_Folder()\n",
        "video_name = dropdown.get_Selected_Video()\n",
        "print(video_path)"
      ]
    },
    {
      "cell_type": "code",
      "execution_count": null,
      "metadata": {
        "id": "eije20oSSoxE"
      },
      "outputs": [],
      "source": [
        "#@title Edit Config file (configs/pose_sample.yaml)\n",
        "\n",
        "\n",
        "#@title Edit Config File\n",
        "\n",
        "#@markdown Setup Config file for inference\n",
        "from omegaconf import OmegaConf\n",
        "\n",
        "CONFIG_NAME = \"configs/pose_sample.yaml\" #@param {type:\"string\"}\n",
        "\n",
        "pretrained_model_path = \"./checkpoints/stable-diffusion-v1-4\" #@param {type:\"string\"}\n",
        "output_dir = \"outputSkeleton\" #@param {type:\"string\"}\n",
        "prompts = \"Iron man on the beach\" #@param {type:\"string\"}\n",
        "video_length = 32 #@param {type:\"number\"}\n",
        "width = 512 #@param {type:\"number\"}\n",
        "height = 512 #@param {type:\"number\"}\n",
        "num_inference_steps = 50 #@param {type:\"number\"}\n",
        "guidance_scale = 12.5 #@param {type:\"number\"}\n",
        "num_inv_steps = 50 #@param {type:\"number\"}\n",
        "train_batch_size = 1 #@param {type:\"number\"}\n",
        "validation_steps = 100 #@param {type:\"number\"}\n",
        "resume_from_checkpoint = \"./checkpoints/followyourpose_checkpoint-1000\" #@param {type:\"string\"}\n",
        "\n",
        "\n",
        "config = {\n",
        "  \"pretrained_model_path\": pretrained_model_path,\n",
        "  \"output_dir\": output_dir,\n",
        "  \"validation_data\": {\n",
        "    \"prompts\": [\n",
        "      prompts\n",
        "    ],\n",
        "    \"video_length\": video_length,\n",
        "    \"width\": width,\n",
        "    \"height\": height,\n",
        "    \"num_inference_steps\": num_inference_steps,\n",
        "    \"guidance_scale\": guidance_scale,\n",
        "    \"use_inv_latent\": False,\n",
        "    \"num_inv_steps\": num_inv_steps,\n",
        "    \"dataset_set\": \"val\"\n",
        "  },\n",
        "  \"train_batch_size\": train_batch_size,\n",
        "  \"validation_steps\": validation_steps,\n",
        "  \"resume_from_checkpoint\": \"./checkpoints/followyourpose_checkpoint-1000\",\n",
        "  \"seed\": 33,\n",
        "  \"mixed_precision\": \"no\",\n",
        "  \"gradient_checkpointing\": False,\n",
        "  \"enable_xformers_memory_efficient_attention\": True\n",
        "}\n",
        "\n",
        "OmegaConf.save(config, CONFIG_NAME)\n",
        "\n",
        "\n",
        "\n"
      ]
    },
    {
      "cell_type": "code",
      "execution_count": null,
      "metadata": {
        "id": "gtgK1P3IxcMj"
      },
      "outputs": [],
      "source": [
        "#Define function parameters\n",
        "target_prompt=\"A person is eating, then opening and closing a book, then using a phone and finally taking medicine in a living room.\"#@param {type: \"string\"}\n",
        "num_steps=10 #@param {type: \"number\"}\n",
        "guidance_scale=12.5 #@param {type: \"number\"}\n",
        "video_type=\"Raw Video\" #@param {type: \"string\"}\n",
        "user_input_video=None\n",
        "start_sample_frame=0 #@param {type: \"number\"}\n",
        "n_sample_frame=10 #@param {type: \"number\"}\n",
        "stride=1 #@param {type: \"number\"}\n",
        "left_crop=0 #@param {type: \"number\"}\n",
        "right_crop=0 #@param {type: \"number\"}\n",
        "top_crop=0 #@param {type: \"number\"}\n",
        "bottom_crop=0 #@param {type: \"number\"}"
      ]
    },
    {
      "cell_type": "code",
      "execution_count": null,
      "metadata": {
        "id": "LpeDHKCBxRka"
      },
      "outputs": [],
      "source": [
        "#@title Generate Skeleton\n",
        "%cd $home_path\n",
        "output = config_runner.run(video_path, target_prompt, num_steps, guidance_scale, video_type, user_input_video, start_sample_frame, n_sample_frame, stride, left_crop, right_crop, top_crop, bottom_crop)\n",
        "\n",
        "\n",
        "import shutil\n",
        "rename_name = video_name.split(\".\")[0] + \".mp4\"\n",
        "#path to the new location\n",
        "renamed_path = os.path.join(\"./\", output_dir, folder_path, rename_name)\n",
        "#Rename current output to input name\n",
        "os.rename(output, rename_name)\n",
        "#Make Directory\n",
        "os.makedirs(os.path.join(\"./\", output_dir, dropdown.get_Selected_Folder()), exist_ok=True)\n",
        "#Move output video to new directory\n",
        "shutil.move(rename_name, renamed_path)"
      ]
    },
    {
      "cell_type": "markdown",
      "metadata": {
        "id": "W6uiqDXl8B1H"
      },
      "source": [
        "# **Training Section**"
      ]
    },
    {
      "cell_type": "code",
      "execution_count": null,
      "metadata": {
        "cellView": "form",
        "colab": {
          "base_uri": "https://localhost:8080/"
        },
        "id": "2lyTfdexzUBg",
        "outputId": "c1cc99f2-84d6-47fa-8adf-37983bd9c38f"
      },
      "outputs": [
        {
          "name": "stdout",
          "output_type": "stream",
          "text": [
            "Overwriting /content/FollowYourPose/data/CharadesVideo.json\n"
          ]
        }
      ],
      "source": [
        "#@title Add CharadesVideo.json\n",
        "\n",
        "%%writefile $data_path/CharadesVideo.json\n",
        "[\n",
        "]\n"
      ]
    },
    {
      "cell_type": "code",
      "execution_count": null,
      "metadata": {
        "cellView": "form",
        "colab": {
          "base_uri": "https://localhost:8080/",
          "height": 263,
          "referenced_widgets": [
            "c2ead68299b946ebb2f7cc976e839389",
            "7cc040ab9ce8461aae9388ca296d0575",
            "e79d50dcd2f846f3a60f3f96261a1f6f",
            "b0f39290a27a48ddbfdf31e328d989dc",
            "084ffbf716b44e19b6e9ba8ca9cfba25",
            "713fc73822274b68b734cb18b404fc8c",
            "0fd0b2f0004a4583a7a2bb4b65f91583",
            "4331ef1ffb354322a567a399c31624f8",
            "4d1a1d8ca78d4ca187671d1fd2b279bb",
            "d9e67ceac57940e7a9c6a264cc919a20",
            "25169709526f4aebb82415fd41f52212",
            "3bcc454e17ce41ff8f3ba27439ffb40f",
            "7eeccea57c4745b194ee8d8e8900b8e6",
            "d8e9036ab89642a2be74d8fc21e23ff9",
            "210dbc43bd314ad9a45ab63b59ad3d2d"
          ]
        },
        "id": "sYXomWsE6RxG",
        "outputId": "e73f955c-c51f-4fa5-e4df-5f0a57dc36a8"
      },
      "outputs": [
        {
          "name": "stdout",
          "output_type": "stream",
          "text": [
            "/content/FollowYourPose\n"
          ]
        },
        {
          "data": {
            "application/vnd.jupyter.widget-view+json": {
              "model_id": "c2ead68299b946ebb2f7cc976e839389",
              "version_major": 2,
              "version_minor": 0
            },
            "text/plain": [
              "Label(value='Enter the video name (Without .mp4)')"
            ]
          },
          "metadata": {},
          "output_type": "display_data"
        },
        {
          "data": {
            "application/vnd.jupyter.widget-view+json": {
              "model_id": "b0f39290a27a48ddbfdf31e328d989dc",
              "version_major": 2,
              "version_minor": 0
            },
            "text/plain": [
              "Text(value='', description='video name:')"
            ]
          },
          "metadata": {},
          "output_type": "display_data"
        },
        {
          "data": {
            "application/vnd.jupyter.widget-view+json": {
              "model_id": "0fd0b2f0004a4583a7a2bb4b65f91583",
              "version_major": 2,
              "version_minor": 0
            },
            "text/plain": [
              "Label(value='Enter a short description of the video')"
            ]
          },
          "metadata": {},
          "output_type": "display_data"
        },
        {
          "data": {
            "application/vnd.jupyter.widget-view+json": {
              "model_id": "d9e67ceac57940e7a9c6a264cc919a20",
              "version_major": 2,
              "version_minor": 0
            },
            "text/plain": [
              "Text(value='', description='script:')"
            ]
          },
          "metadata": {},
          "output_type": "display_data"
        },
        {
          "data": {
            "application/vnd.jupyter.widget-view+json": {
              "model_id": "7eeccea57c4745b194ee8d8e8900b8e6",
              "version_major": 2,
              "version_minor": 0
            },
            "text/plain": [
              "Button(description='Submit', style=ButtonStyle())"
            ]
          },
          "metadata": {},
          "output_type": "display_data"
        },
        {
          "name": "stdout",
          "output_type": "stream",
          "text": [
            "Successfully Added Video ID: X8AP2\n",
            "Successfully Added Video ID: X8AP2\n",
            "Successfully Added Video ID: X8AP2\n",
            "Successfully Added Video ID: X8AP2\n"
          ]
        }
      ],
      "source": [
        "#@title Add video properties into CharadesVideo.json\n",
        "import ipywidgets as widgets\n",
        "from IPython.display import display\n",
        "import json\n",
        "\n",
        "%cd $home_path\n",
        "\n",
        "# Define the text fields\n",
        "id_field = widgets.Text(description='video name:')\n",
        "scripts_field = widgets.Text(description='script:')\n",
        "\n",
        "# Define help text using Label widgets\n",
        "id_help = widgets.Label(value='Enter the video name (Without .mp4)')\n",
        "scripts_help = widgets.Label(value='Enter a short description of the video')\n",
        "\n",
        "# Define a button\n",
        "button = widgets.Button(description='Submit')\n",
        "\n",
        "# Define a function to be executed on button click\n",
        "def on_button_click(b):\n",
        "    id = id_field.value\n",
        "    scripts = scripts_field.value\n",
        "\n",
        "    # Load existing JSON data\n",
        "    with open('./data/CharadesVideo.json', 'r') as json_file:\n",
        "        data = json.load(json_file)\n",
        "\n",
        "    # Create a new JSON object\n",
        "    new_data = {\n",
        "        \"id\": id,\n",
        "        \"script\": scripts\n",
        "    }\n",
        "\n",
        "    # Append the new object to the existing JSON list\n",
        "    data.append(new_data)\n",
        "\n",
        "    # Write the updated JSON data back to the file\n",
        "    with open('./data/CharadesVideo.json', 'w') as json_file:\n",
        "        json.dump(data, json_file, indent=4)\n",
        "    print(f'Successfully Added Video ID: {id}')\n",
        "\n",
        "# Attach the function to the button's click event\n",
        "button.on_click(on_button_click)\n",
        "\n",
        "# Display the widgets\n",
        "display(id_help, id_field, scripts_help, scripts_field, button)"
      ]
    },
    {
      "cell_type": "code",
      "execution_count": null,
      "metadata": {
        "cellView": "form",
        "colab": {
          "base_uri": "https://localhost:8080/",
          "height": 99,
          "referenced_widgets": [
            "608d1f40a7554310bd39d294dfeba870",
            "c78c3c1e7adb4873a975f82c6f46c222",
            "8b9f5b7eeb584eabab0413599372c989",
            "51b99e16f14e4b1e9b5b491a70c17698",
            "2da6faafe77542278833b370404136fd",
            "793f9413dc4f486f8292d2063c4ffac0",
            "baaf88b75f5c4c2eb9f5cfff2ab78417",
            "c023a42c34ac460eb14d14c90c162623"
          ]
        },
        "id": "K9dnaId27m23",
        "outputId": "2618082d-6462-4632-cd55-c04db9fbfb52"
      },
      "outputs": [
        {
          "name": "stdout",
          "output_type": "stream",
          "text": [
            "/content/FollowYourPose\n"
          ]
        },
        {
          "data": {
            "application/vnd.jupyter.widget-view+json": {
              "model_id": "608d1f40a7554310bd39d294dfeba870",
              "version_major": 2,
              "version_minor": 0
            },
            "text/plain": [
              "Dropdown(description='Select ID:', options=('X8AP2',), value='X8AP2')"
            ]
          },
          "metadata": {},
          "output_type": "display_data"
        },
        {
          "data": {
            "application/vnd.jupyter.widget-view+json": {
              "model_id": "51b99e16f14e4b1e9b5b491a70c17698",
              "version_major": 2,
              "version_minor": 0
            },
            "text/plain": [
              "Button(description='Remove ID', style=ButtonStyle())"
            ]
          },
          "metadata": {},
          "output_type": "display_data"
        },
        {
          "data": {
            "application/vnd.jupyter.widget-view+json": {
              "model_id": "baaf88b75f5c4c2eb9f5cfff2ab78417",
              "version_major": 2,
              "version_minor": 0
            },
            "text/plain": [
              "Output()"
            ]
          },
          "metadata": {},
          "output_type": "display_data"
        }
      ],
      "source": [
        "#@title Remove video from CharadesVideo.json (Optional)\n",
        "%cd $home_path\n",
        "\n",
        "import ipywidgets as widgets\n",
        "from IPython.display import display\n",
        "import json\n",
        "\n",
        "# Create a function to display IDs and remove on button click\n",
        "def display_and_remove_id():\n",
        "    # Load existing JSON data\n",
        "    json_file_path = './data/CharadesVideo.json'\n",
        "    with open(json_file_path, 'r') as json_file:\n",
        "        data = json.load(json_file)\n",
        "\n",
        "    # Define a dropdown widget to display IDs\n",
        "    id_dropdown = widgets.Dropdown(options=[item[\"id\"] for item in data], description='Select ID:')\n",
        "\n",
        "    # Define a button to remove the selected ID\n",
        "    remove_button = widgets.Button(description='Remove ID')\n",
        "\n",
        "    # Define an output widget for displaying success messages\n",
        "    success_output = widgets.Output()\n",
        "\n",
        "    # Define a function to remove the selected ID and display a success message\n",
        "    def on_remove_button_click(b):\n",
        "        selected_id = id_dropdown.value\n",
        "        data[:] = [item for item in data if item[\"id\"] != selected_id]\n",
        "        id_dropdown.options = [item[\"id\"] for item in data]\n",
        "\n",
        "        # Save the updated data to the JSON file\n",
        "        with open(json_file_path, 'w') as json_file:\n",
        "            json.dump(data, json_file, indent=4)\n",
        "\n",
        "        # Display a success message\n",
        "        with success_output:\n",
        "            print(f'Successfully removed ID: {selected_id}')\n",
        "\n",
        "    # Attach the remove function to the remove button's click event\n",
        "    remove_button.on_click(on_remove_button_click)\n",
        "\n",
        "    # Display the widgets\n",
        "    display(id_dropdown, remove_button, success_output)\n",
        "\n",
        "# Call the function to display IDs and the remove button\n",
        "display_and_remove_id()\n",
        "\n"
      ]
    },
    {
      "cell_type": "code",
      "execution_count": null,
      "metadata": {
        "cellView": "form",
        "colab": {
          "base_uri": "https://localhost:8080/"
        },
        "id": "MHKaTExF9Q9_",
        "outputId": "999e8df3-616d-48a0-f690-e16e6da5a542"
      },
      "outputs": [
        {
          "name": "stdout",
          "output_type": "stream",
          "text": [
            "/content/FollowYourPose\n"
          ]
        }
      ],
      "source": [
        "#@title Edit Config File\n",
        "%cd $home_path\n",
        "\n",
        "#@markdown Setup Config file for training\n",
        "\n",
        "from omegaconf import OmegaConf\n",
        "#@markdown Config File Path\n",
        "CONFIG_NAME = \"configs/pose_train.yaml\"     #@param {type:\"string\"}\n",
        "\n",
        "\n",
        "#@markdown Pretrained Model  Path\n",
        "pretrained_model_path = \"./checkpoints/stable-diffusion-v1-4\" #@param {type:\"string\"}\n",
        "\n",
        "#@markdown model Output Path\n",
        "#Location and name of newly trained model\n",
        "output_dir = \"output/model2\"                        #@param {type:\"string\"}\n",
        "\n",
        "#@markdown train_data\n",
        "# Training video subfolder\n",
        "train_video_path = \"./data\"                         #@param {type:\"string\"}\n",
        "train_prompt = \"A person is eating, then opening and closing a book, then using a phone and finally taking medicine in a living room.\"                    #@param {type:\"string\"}\n",
        "n_sample_frames = 4                                 #@param {type:\"number\"}\n",
        "# width = 512                                       #@param {type:\"number\"}\n",
        "# height = 512                                      #@param {type:\"number\"}\n",
        "\n",
        "learning_rate = 3e-5                                #@param {type:\"number\"}\n",
        "#This might help determin no of epochs (refer train_followyourpose.py)\n",
        "train_batch_size = 1                                #@param {type:\"number\"}\n",
        "# might need to change the training code to take in batch size from config file\n",
        "max_train_steps = 50                                #@param {type:\"number\"}\n",
        "checkpointing_steps = 25                            #@param {type:\"number\"}\n",
        "validation_steps = 50                              #@param {type:\"number\"}\n",
        "\n",
        "skeleton_path = \"./outputSkeleton/X8AP2/X8AP2.mp4\"  #@param {type:\"string\"}\n",
        "\n",
        "config = {\n",
        "  \"pretrained_model_path\": \"./checkpoints/stable-diffusion-v1-4\",\n",
        "  \"output_dir\": output_dir,\n",
        "  \"train_data\": {\n",
        "    \"video_path\": train_video_path,\n",
        "    \"prompt\": train_prompt,\n",
        "    \"n_sample_frames\": n_sample_frames,\n",
        "    \"width\": 512,\n",
        "    \"height\": 512,\n",
        "    \"sample_start_idx\": 0,\n",
        "    \"sample_frame_rate\": 4,\n",
        "    \"dataset_set\": \"train\"\n",
        "  },\n",
        "  \"validation_data\": {\n",
        "    \"prompts\": [\n",
        "      \"A Iron man on the beach\",\n",
        "      \"A Spider man on the snow\",\n",
        "      \"A Superman on the street\",\n",
        "      \"A boy on the forest\"\n",
        "    ],\n",
        "    \"video_length\": 1,\n",
        "    \"width\": 512,\n",
        "    \"height\": 512,\n",
        "    \"num_inference_steps\": 1,\n",
        "    \"guidance_scale\": 12.5,\n",
        "    \"use_inv_latent\": False,\n",
        "    \"num_inv_steps\": 1,\n",
        "    \"dataset_set\": \"val\"\n",
        "  },\n",
        "  \"learning_rate\": learning_rate,\n",
        "  \"train_batch_size\": train_batch_size,\n",
        "  \"max_train_steps\": max_train_steps,\n",
        "  \"checkpointing_steps\": checkpointing_steps,\n",
        "  \"validation_steps\": validation_steps,\n",
        "  \"trainable_modules\": [\n",
        "    \"attn1.to_q\",\n",
        "    \"attn2.to_q\",\n",
        "    \"attn_temp\",\n",
        "    \"conv_temporal\"\n",
        "  ],\n",
        "  \"skeleton_path\": skeleton_path,\n",
        "  \"seed\": 33,\n",
        "  \"mixed_precision\": \"no\",\n",
        "  \"use_8bit_adam\": False,\n",
        "  \"gradient_checkpointing\": False,\n",
        "  \"enable_xformers_memory_efficient_attention\": True\n",
        "}\n",
        "\n",
        "OmegaConf.save(config, CONFIG_NAME)"
      ]
    },
    {
      "cell_type": "markdown",
      "metadata": {
        "id": "w5Viz1BBrz25"
      },
      "source": [
        "## Start Training"
      ]
    },
    {
      "cell_type": "code",
      "execution_count": null,
      "metadata": {
        "colab": {
          "base_uri": "https://localhost:8080/"
        },
        "id": "0W-Moj4s_zmf",
        "outputId": "bf14a42d-7e10-4ab4-a7e8-2802b53157c5"
      },
      "outputs": [
        {
          "name": "stdout",
          "output_type": "stream",
          "text": [
            "2023-10-25 02:18:34.106294: E tensorflow/compiler/xla/stream_executor/cuda/cuda_dnn.cc:9342] Unable to register cuDNN factory: Attempting to register factory for plugin cuDNN when one has already been registered\n",
            "2023-10-25 02:18:34.106361: E tensorflow/compiler/xla/stream_executor/cuda/cuda_fft.cc:609] Unable to register cuFFT factory: Attempting to register factory for plugin cuFFT when one has already been registered\n",
            "2023-10-25 02:18:34.106400: E tensorflow/compiler/xla/stream_executor/cuda/cuda_blas.cc:1518] Unable to register cuBLAS factory: Attempting to register factory for plugin cuBLAS when one has already been registered\n",
            "2023-10-25 02:18:36.572851: W tensorflow/compiler/tf2tensorrt/utils/py_utils.cc:38] TF-TRT Warning: Could not find TensorRT\n",
            "The following values were not passed to `accelerate launch` and had defaults used instead:\n",
            "\t`--num_processes` was set to a value of `1`\n",
            "\t`--num_machines` was set to a value of `1`\n",
            "\t`--mixed_precision` was set to a value of `'no'`\n",
            "\t`--dynamo_backend` was set to a value of `'no'`\n",
            "To avoid this warning pass in values for each of the problematic parameters or run `accelerate config`.\n",
            "2023-10-25 02:18:42.505681: E tensorflow/compiler/xla/stream_executor/cuda/cuda_dnn.cc:9342] Unable to register cuDNN factory: Attempting to register factory for plugin cuDNN when one has already been registered\n",
            "2023-10-25 02:18:42.505735: E tensorflow/compiler/xla/stream_executor/cuda/cuda_fft.cc:609] Unable to register cuFFT factory: Attempting to register factory for plugin cuFFT when one has already been registered\n",
            "2023-10-25 02:18:42.505768: E tensorflow/compiler/xla/stream_executor/cuda/cuda_blas.cc:1518] Unable to register cuBLAS factory: Attempting to register factory for plugin cuBLAS when one has already been registered\n",
            "2023-10-25 02:18:43.704197: W tensorflow/compiler/tf2tensorrt/utils/py_utils.cc:38] TF-TRT Warning: Could not find TensorRT\n",
            "WARNING: All log messages before absl::InitializeLog() is called are written to STDERR\n",
            "I0000 00:00:1698200326.872858   14120 tfrt_cpu_pjrt_client.cc:349] TfrtCpuClient created.\n",
            "10/25/2023 02:18:59 - INFO - __main__ - Distributed environment: NO\n",
            "Num processes: 1\n",
            "Process index: 0\n",
            "Local process index: 0\n",
            "Device: cuda\n",
            "\n",
            "Mixed precision type: no\n",
            "\n",
            "{'variance_type', 'prediction_type'} was not found in config. Values will be initialized to default values.\n",
            "{'norm_num_groups'} was not found in config. Values will be initialized to default values.\n",
            "{'dual_cross_attention', 'upcast_attention', 'use_linear_projection', 'only_cross_attention', 'mid_block_type', 'class_embed_type', 'resnet_time_scale_shift', 'num_class_embeds'} was not found in config. Values will be initialized to default values.\n",
            "dataset rank: 0  /  1  \n",
            "start load meta data\n",
            "Loading video with ID: X8AP2\n",
            "Loaded 1 items in 0.001032114028930664 seconds\n",
            "load meta data done!!!\n",
            "{'prediction_type'} was not found in config. Values will be initialized to default values.\n",
            "{'prediction_type'} was not found in config. Values will be initialized to default values.\n",
            "10/25/2023 02:19:36 - INFO - __main__ - ***** Running training *****\n",
            "10/25/2023 02:19:36 - INFO - __main__ -   Num examples = 1\n",
            "10/25/2023 02:19:36 - INFO - __main__ -   Num Epochs = 50\n",
            "10/25/2023 02:19:36 - INFO - __main__ -   Instantaneous batch size per device = 1\n",
            "10/25/2023 02:19:36 - INFO - __main__ -   Total train batch size (w. parallel, distributed & accumulation) = 1\n",
            "10/25/2023 02:19:36 - INFO - __main__ -   Gradient Accumulation steps = 1\n",
            "10/25/2023 02:19:36 - INFO - __main__ -   Total optimization steps = 50\n",
            "Steps:  50% 25/50 [02:35<02:30,  6.02s/it, lr=3e-5, step_loss=0.00338]10/25/2023 02:22:11 - INFO - accelerate.accelerator - Saving current state to output/model2/checkpoint-25\n",
            "10/25/2023 02:23:27 - INFO - accelerate.checkpointing - Model weights saved in output/model2/checkpoint-25/pytorch_model.bin\n",
            "10/25/2023 02:23:39 - INFO - accelerate.checkpointing - Optimizer state saved in output/model2/checkpoint-25/optimizer.bin\n",
            "10/25/2023 02:23:39 - INFO - accelerate.checkpointing - Scheduler state saved in output/model2/checkpoint-25/scheduler.bin\n",
            "10/25/2023 02:23:39 - INFO - accelerate.checkpointing - Sampler state for dataloader 0 saved in output/model2/checkpoint-25/sampler.bin\n",
            "10/25/2023 02:23:39 - INFO - accelerate.checkpointing - Random states saved in output/model2/checkpoint-25/random_states_0.pkl\n",
            "10/25/2023 02:23:39 - INFO - __main__ - Saved state to output/model2/checkpoint-25\n",
            "Steps: 100% 50/50 [06:34<00:00,  6.03s/it, lr=3e-5, step_loss=0.106]10/25/2023 02:26:10 - INFO - accelerate.accelerator - Saving current state to output/model2/checkpoint-50\n",
            "10/25/2023 02:27:03 - INFO - accelerate.checkpointing - Model weights saved in output/model2/checkpoint-50/pytorch_model.bin\n",
            "10/25/2023 02:27:15 - INFO - accelerate.checkpointing - Optimizer state saved in output/model2/checkpoint-50/optimizer.bin\n",
            "10/25/2023 02:27:15 - INFO - accelerate.checkpointing - Scheduler state saved in output/model2/checkpoint-50/scheduler.bin\n",
            "10/25/2023 02:27:15 - INFO - accelerate.checkpointing - Sampler state for dataloader 0 saved in output/model2/checkpoint-50/sampler.bin\n",
            "10/25/2023 02:27:15 - INFO - accelerate.checkpointing - Random states saved in output/model2/checkpoint-50/random_states_0.pkl\n",
            "10/25/2023 02:27:15 - INFO - __main__ - Saved state to output/model2/checkpoint-50\n",
            "\n",
            "  0% 0/1 [00:00<?, ?it/s]\u001b[A\n",
            "100% 1/1 [00:01<00:00,  1.22s/it]\n",
            "\n",
            "  0% 0/1 [00:00<?, ?it/s]\u001b[A\n",
            "100% 1/1 [00:00<00:00,  1.08it/s]\n",
            "\n",
            "  0% 0/1 [00:00<?, ?it/s]\u001b[A\n",
            "100% 1/1 [00:00<00:00,  1.08it/s]\n",
            "\n",
            "  0% 0/1 [00:00<?, ?it/s]\u001b[A\n",
            "100% 1/1 [00:00<00:00,  1.06it/s]\n",
            "10/25/2023 02:27:24 - INFO - __main__ - Saved samples to output/model2/samples/sample-50.gif\n",
            "Steps: 100% 50/50 [07:48<00:00,  6.03s/it, lr=3e-5, step_loss=0.0179]{'prediction_type'} was not found in config. Values will be initialized to default values.\n",
            "Configuration saved in output/model2/model_index.json\n",
            "Configuration saved in output/model2/vae/config.json\n",
            "Model weights saved in output/model2/vae/diffusion_pytorch_model.bin\n",
            "Configuration saved in output/model2/unet/config.json\n",
            "Model weights saved in output/model2/unet/diffusion_pytorch_model.bin\n",
            "Configuration saved in output/model2/scheduler/scheduler_config.json\n",
            "Steps: 100% 50/50 [09:11<00:00, 11.03s/it, lr=3e-5, step_loss=0.0179]\n",
            "I0000 00:00:1698200928.650265   14120 tfrt_cpu_pjrt_client.cc:352] TfrtCpuClient destroyed.\n"
          ]
        }
      ],
      "source": [
        "!TORCH_DISTRIBUTED_DEBUG=DETAIL accelerate launch train_followyourpose.py --config=CONFIG_NAME"
      ]
    },
    {
      "cell_type": "markdown",
      "metadata": {
        "id": "zwVk_cOwzVek"
      },
      "source": [
        "# **Monitor Progress**\n",
        "Displayed the progress of the model training using progress bars"
      ]
    },
    {
      "cell_type": "code",
      "execution_count": null,
      "metadata": {
        "colab": {
          "base_uri": "https://localhost:8080/"
        },
        "id": "GzNG9lPzfpLS",
        "outputId": "5a93f3a4-aa0c-42a9-dc26-9963416046ce"
      },
      "outputs": [
        {
          "name": "stdout",
          "output_type": "stream",
          "text": [
            "Requirement already satisfied: tqdm in /usr/local/lib/python3.10/dist-packages (4.65.2)\n"
          ]
        }
      ],
      "source": [
        "!pip install tqdm"
      ]
    },
    {
      "cell_type": "code",
      "execution_count": null,
      "metadata": {
        "colab": {
          "base_uri": "https://localhost:8080/"
        },
        "id": "r-Y1Y_OUzhZy",
        "outputId": "d9b84f27-a9f7-4c3d-dbb7-775f50c2d8f4"
      },
      "outputs": [
        {
          "name": "stderr",
          "output_type": "stream",
          "text": [
            "Training Progress: |\u001b[94m██████████\u001b[0m| 100% 3/3\n"
          ]
        }
      ],
      "source": [
        "# Method 1: Read the epoch size from edit config file\n",
        "\n",
        "from tqdm import tqdm\n",
        "import subprocess\n",
        "from omegaconf import OmegaConf\n",
        "\n",
        "# Define the training script and configuration file\n",
        "training_script = \"train_followyourpose.py\"\n",
        "config_file = \"configs/pose_train_testing.yaml\"  # Use the updated config file name\n",
        "\n",
        "# Get the number of training steps from the config\n",
        "config = OmegaConf.load(CONFIG_NAME)\n",
        "train_steps = config.max_train_steps\n",
        "\n",
        "# Define ANSI escape codes for blue color\n",
        "blue_color = \"\\033[94m\"  # Blue text color\n",
        "end_color = \"\\033[0m\"    # Reset to default color\n",
        "\n",
        "# Create a colored progress bar with blue bars and custom formatting\n",
        "bar_format = f\"Training Progress: |{blue_color}{{bar}}{end_color}| {{percentage:3.0f}}% {{n_fmt}}/{{total_fmt}}\"\n",
        "with tqdm(total=train_steps, bar_format=bar_format, ncols=100, dynamic_ncols=True) as pbar:\n",
        "    for step in range(train_steps):\n",
        "        # Run the training script\n",
        "        command = f\"TORCH_DISTRIBUTED_DEBUG=DETAIL accelerate launch {training_script} --config={config_file}\"\n",
        "        subprocess.run(command, shell=True)\n",
        "\n",
        "        # Update the progress bar\n",
        "        pbar.update(1)\n"
      ]
    },
    {
      "cell_type": "code",
      "execution_count": null,
      "metadata": {
        "colab": {
          "base_uri": "https://localhost:8080/"
        },
        "id": "5p1J6dd8zsEu",
        "outputId": "ccee29a9-0700-40ad-b167-6780b0585c33"
      },
      "outputs": [
        {
          "name": "stderr",
          "output_type": "stream",
          "text": [
            "Training Progress: 100%|██████████| 3/3 [03:30<00:00, 70.15s/it]\n"
          ]
        }
      ],
      "source": [
        "# Method 2: Ownself set fixed size to run\n",
        "\n",
        "from tqdm import tqdm\n",
        "import subprocess\n",
        "import time\n",
        "\n",
        "# Define the training script and configuration file\n",
        "training_script = \"train_followyourpose.py\"\n",
        "config_file = \"configs/pose_train.yaml\"\n",
        "\n",
        "# Define the total number of epochs\n",
        "total_epochs = 3  # Set the number of training epochs\n",
        "\n",
        "# Initialize the progress bar\n",
        "with tqdm(total=total_epochs, desc=\"Training Progress\") as pbar:\n",
        "    for epoch in range(total_epochs):\n",
        "        # Run the training script\n",
        "        command = f\"TORCH_DISTRIBUTED_DEBUG=DETAIL accelerate launch {training_script} --config={config_file}\"\n",
        "        subprocess.run(command, shell=True)\n",
        "\n",
        "        # Update the progress bar\n",
        "        pbar.update(1)\n",
        "        time.sleep(1)  # Simulate progress, replace with your actual training logic\n"
      ]
    },
    {
      "cell_type": "markdown",
      "metadata": {
        "id": "GJa146MJUlAa"
      },
      "source": [
        "## **Fine Tuning**"
      ]
    },
    {
      "cell_type": "code",
      "execution_count": null,
      "metadata": {
        "id": "apRLZ2wSfpOg"
      },
      "outputs": [],
      "source": [
        "import yaml\n",
        "import ipywidgets as widgets\n",
        "import os\n",
        "from IPython.display import display\n",
        "from ipywidgets import Button, VBox\n",
        "from google.colab import files\n",
        "from omegaconf import OmegaConf\n",
        "\n",
        "# Load the config file\n",
        "config = OmegaConf.load(CONFIG_NAME)\n",
        "\n",
        "# Get the absolute path of the config file\n",
        "config_file_path = os.path.abspath(CONFIG_NAME)\n",
        "\n",
        "# Read the YAML file\n",
        "with open(config_file_path, 'r') as file:\n",
        "    config_data = yaml.safe_load(file)\n",
        "\n",
        "# Extract \"skeleton path\" value\n",
        "skeleton_path_file = os.path.abspath(config_data['skeleton_path'])\n",
        "skeleton_path_directory = os.path.dirname(skeleton_path_file)\n",
        "skeleton_file_name = os.path.basename(skeleton_path_file)\n",
        "\n",
        "# Extract the \"prompt\" values from the YAML data\n",
        "prompts = config_data['validation_data']['prompts']\n",
        "\n",
        "# Output widget to display the imported video filename\n",
        "output_widget = widgets.Output()\n",
        "\n",
        "# List to keep track of imported video strings\n",
        "imported_video_strings = []\n",
        "\n",
        "# Create \"Upload Video\" button\n",
        "upload_button = Button(description=\"Upload Video\")\n",
        "upload_button.on_click(on_upload_button_click)  # Set up the event handler here\n",
        "\n",
        "# Create \"Replace Video\" button\n",
        "replace_button = Button(description=\"Replace Video\", disabled=True)\n",
        "replace_button.on_click(on_replace_button_click)  # Set up the event handler here\n",
        "\n",
        "# Create a VBox to stack the widgets vertically\n",
        "vbox = VBox([upload_button, output_widget, replace_button])\n",
        "\n",
        "# Function to handle dropdown changes\n",
        "def on_dropdown_change(change):\n",
        "    selected_prompt = change.new\n",
        "    # You can perform any additional actions here if needed\n",
        "    print(f\"Selected prompt: {selected_prompt}\")\n",
        "\n",
        "    # Display the existing widgets\n",
        "    display(vbox)\n",
        "\n",
        "# Observer for prompt_dropdown\n",
        "prompt_dropdown = widgets.Dropdown(\n",
        "    options=prompts,\n",
        "    description='Select Prompt:',\n",
        ")\n",
        "prompt_dropdown.observe(on_dropdown_change, names='value')\n",
        "\n",
        "# Display the initial widgets\n",
        "display(prompt_dropdown)\n",
        "display(vbox)\n",
        "\n",
        "# Define a function to handle video import\n",
        "def on_upload_button_click(b):\n",
        "    # Prompt the user to upload a file\n",
        "    uploaded = files.upload()\n",
        "\n",
        "    if uploaded:\n",
        "        uploaded_filename = next(iter(uploaded))\n",
        "        imported_filename_output = f\"Imported Video: {uploaded_filename}\"\n",
        "\n",
        "        with output_widget:\n",
        "            output_widget.clear_output(wait=True)\n",
        "            imported_video_strings.append(imported_filename_output)\n",
        "            # Display all imported video strings\n",
        "            for video_string in imported_video_strings:\n",
        "                print(video_string)\n",
        "\n",
        "        # Store the uploaded content in a global variable\n",
        "        global uploaded_content\n",
        "        uploaded_content = uploaded[uploaded_filename]\n",
        "\n",
        "        replace_button.disabled = False  # Enable the replace button after importing a new video\n",
        "\n",
        "# Define a function to handle video replacement\n",
        "def on_replace_button_click(b):\n",
        "    # Use the global variable to access the uploaded content\n",
        "    uploaded_file_content = uploaded_content\n",
        "\n",
        "    # Save the uploaded file to the specified path, replacing the existing video with the same name\n",
        "    replace_video_path = os.path.join(skeleton_path_directory, skeleton_file_name)\n",
        "    with open(replace_video_path, 'wb') as f:\n",
        "        f.write(uploaded_file_content)\n",
        "\n",
        "    # You can perform any additional actions here if needed\n",
        "    print(f\"Video {skeleton_file_name} replaced successfully.\")\n",
        "\n",
        "    # Reset the imported video strings\n",
        "    imported_video_strings.clear()\n"
      ]
    },
    {
      "cell_type": "markdown",
      "metadata": {
        "id": "gKBm7pCLTGZO"
      },
      "source": [
        "## **Select Subfolder from Data folder**"
      ]
    },
    {
      "cell_type": "code",
      "execution_count": null,
      "metadata": {
        "id": "OI8SSqtifpRM"
      },
      "outputs": [],
      "source": [
        "import os\n",
        "import ipywidgets as widgets\n",
        "from IPython.display import display, clear_output\n",
        "\n",
        "# Path to the 'data' folder\n",
        "data_folder_path = '/content/FollowYourPose/data'\n",
        "\n",
        "# List the subdirectories (subfolders) in the 'data' folder\n",
        "subfolders = [subfolder for subfolder in os.listdir(data_folder_path) if os.path.isdir(os.path.join(data_folder_path, subfolder))]\n",
        "\n",
        "# Create a dropdown widget\n",
        "subfolder_dropdown = widgets.Dropdown(\n",
        "    options=[''] + subfolders,  # Include an empty option to represent \"nothing selected\"\n",
        "    description='Select Subfolder:'\n",
        ")\n",
        "\n",
        "output_widget = widgets.Output()\n",
        "\n",
        "# Initialize selected_folder_path as a global variable\n",
        "selected_folder_path = None\n",
        "\n",
        "# Define a function to handle dropdown changes\n",
        "def on_dropdown_change(change):\n",
        "    global selected_folder_path  # Make selected_folder_path a global variable\n",
        "    selected_subfolder = change.new\n",
        "    with output_widget:\n",
        "        output_widget.clear_output()\n",
        "        if selected_subfolder:\n",
        "            # Set selected_folder_path when a subfolder is selected\n",
        "            selected_folder_path = os.path.join(data_folder_path, selected_subfolder)\n",
        "            print(f\"Selected Subfolder: {selected_subfolder}\")\n",
        "            print(f\"Full Path: {selected_folder_path}\")\n",
        "        else:\n",
        "            # Clear selected_folder_path when no subfolder is selected\n",
        "            selected_folder_path = None\n",
        "            print(\"No subfolder selected\")\n",
        "\n",
        "# Observe changes in the dropdown list\n",
        "subfolder_dropdown.observe(on_dropdown_change, names='value')\n",
        "\n",
        "# Display the initial widgets\n",
        "display(subfolder_dropdown)\n",
        "display(output_widget)\n",
        "\n",
        "# Now, selected_folder_path is a global variable accessible outside the code block\n",
        "# If nothing is selected, selected_folder_path will be None"
      ]
    },
    {
      "cell_type": "code",
      "execution_count": null,
      "metadata": {
        "id": "YEfd--d0fpTh"
      },
      "outputs": [],
      "source": [
        "print(selected_folder_path)"
      ]
    },
    {
      "cell_type": "code",
      "execution_count": null,
      "metadata": {
        "id": "2CPkLc_WfpWB"
      },
      "outputs": [],
      "source": []
    },
    {
      "cell_type": "code",
      "execution_count": null,
      "metadata": {
        "id": "J8FgEqgufpYr"
      },
      "outputs": [],
      "source": []
    },
    {
      "cell_type": "code",
      "execution_count": null,
      "metadata": {
        "id": "x-usWafYfpbE"
      },
      "outputs": [],
      "source": []
    },
    {
      "cell_type": "code",
      "execution_count": null,
      "metadata": {
        "id": "st602SbffpdR"
      },
      "outputs": [],
      "source": []
    },
    {
      "cell_type": "code",
      "execution_count": null,
      "metadata": {
        "id": "PzrmXkNhfpfw"
      },
      "outputs": [],
      "source": []
    },
    {
      "cell_type": "code",
      "execution_count": null,
      "metadata": {
        "id": "JxctIPIhfpiK"
      },
      "outputs": [],
      "source": []
    },
    {
      "cell_type": "code",
      "execution_count": null,
      "metadata": {
        "id": "Bcu4-2hEfpkh"
      },
      "outputs": [],
      "source": []
    },
    {
      "cell_type": "markdown",
      "metadata": {
        "id": "orIfBO5LhujL"
      },
      "source": [
        "# **New section**"
      ]
    },
    {
      "cell_type": "code",
      "execution_count": null,
      "metadata": {
        "id": "qcmgtw7Vfpms"
      },
      "outputs": [],
      "source": []
    },
    {
      "cell_type": "markdown",
      "metadata": {
        "id": "-bx-0L0S72rX"
      },
      "source": [
        "## Others"
      ]
    },
    {
      "cell_type": "markdown",
      "metadata": {
        "id": "U654EOyIakAt"
      },
      "source": [
        "# **Addition of Caption**"
      ]
    },
    {
      "cell_type": "code",
      "execution_count": null,
      "metadata": {
        "colab": {
          "base_uri": "https://localhost:8080/",
          "height": 148,
          "referenced_widgets": [
            "708daabcc5d345f997e9f3e38a2fef9c",
            "559a4d508c1642d3b73dcc376cf137b2",
            "35fca6d5e2d6492badf00ddf138fc51c",
            "09404fbab00d4a119a750e0ef136a2fd",
            "9ec87ef7d64f4c0094a7623e0d0d695f",
            "8ea8c9a39aaa4a4ca948a70c8a2d5f99",
            "b87922d55a8f42ea8f6749da70ffc90c",
            "e25d15416dc54aea9646d671a3ef5ed4",
            "52164e12bd0b4333afa81f4ca0c327c1",
            "4ccfa4c001774b7ca13fd57314cad521",
            "4ecd6066d60c43bfa37a73dd92aca62a",
            "21dbb5763b5e4eccb96aab32e5c9f4d8",
            "3915ef100d004327a171d4aaf0d2713a"
          ]
        },
        "id": "l6HVXWmzH2Nf",
        "outputId": "27bfdfc1-334c-464e-f76a-316363e638b9"
      },
      "outputs": [
        {
          "data": {
            "application/vnd.jupyter.widget-view+json": {
              "model_id": "708daabcc5d345f997e9f3e38a2fef9c",
              "version_major": 2,
              "version_minor": 0
            },
            "text/plain": [
              "VBox(children=(Text(value='', description='Video name:', placeholder='Enter video name'), Text(value='', descr…"
            ]
          },
          "metadata": {},
          "output_type": "display_data"
        }
      ],
      "source": [
        "import ipywidgets as widgets\n",
        "from IPython.display import display\n",
        "import os\n",
        "import configparser\n",
        "import cv2\n",
        "\n",
        "video_name_input = widgets.Text(\n",
        "    value='',\n",
        "    placeholder='Enter video name',\n",
        "    description='Video name:'\n",
        ")\n",
        "\n",
        "caption_input = widgets.Text(\n",
        "    value='',\n",
        "    placeholder='Enter caption',\n",
        "    description='Caption:'\n",
        ")\n",
        "\n",
        "save_button = widgets.Button(\n",
        "    description=\"Save Video and Caption\"\n",
        ")\n",
        "\n",
        "output = widgets.Output()\n",
        "\n",
        "\n",
        "def save_video(video_name):\n",
        "    # Define the output path for the video file\n",
        "    video_output_path = f'/content/FollowYourPose/{video_name}.mp4'\n",
        "\n",
        "    # Open the input video file (you should provide the path to your input video)\n",
        "    input_video_path = video_path\n",
        "    cap = cv2.VideoCapture(input_video_path)\n",
        "\n",
        "    # Get video properties\n",
        "    frame_width = int(cap.get(3))\n",
        "    frame_height = int(cap.get(4))\n",
        "    frame_rate = int(cap.get(5))\n",
        "\n",
        "    # Define the codec and create a VideoWriter object\n",
        "    fourcc = cv2.VideoWriter_fourcc(*'mp4v')  # Codec for MP4 format\n",
        "    out = cv2.VideoWriter(video_output_path, fourcc, frame_rate, (frame_width, frame_height))\n",
        "\n",
        "    # Read frames from the input video and write them to the output video\n",
        "    while True:\n",
        "        ret, frame = cap.read()\n",
        "        if not ret:\n",
        "            break\n",
        "\n",
        "        out.write(frame)\n",
        "\n",
        "    # Release video objects\n",
        "    cap.release()\n",
        "    out.release()\n",
        "\n",
        "def save_caption_to_config(caption_text, config_file_path):\n",
        "    config = configparser.ConfigParser()\n",
        "    config.add_section('Captions')\n",
        "    config.set('Captions', 'caption_text', caption_text)\n",
        "    with open(config_file_path, 'w') as configfile:\n",
        "        config.write(configfile)\n",
        "\n",
        "def save_video_and_caption(_):\n",
        "    video_name = video_name_input.value\n",
        "    caption_text = caption_input.value\n",
        "\n",
        "    # Define the output path for the INI file\n",
        "    config_file_path = f'/content/FollowYourPose/{video_name}.ini'\n",
        "\n",
        "    # Save the caption to the INI file\n",
        "    save_caption_to_config(caption_text, config_file_path)\n",
        "\n",
        "    # Save the video in .mp4 format\n",
        "    save_video(video_name)\n",
        "\n",
        "    # Display a message in the output widget to indicate that both the video and caption have been saved\n",
        "    with output:\n",
        "        print(f\"Saved video to file: {video_name}.mp4\")\n",
        "        print(f\"Saved caption to INI file: {config_file_path}\")\n",
        "\n",
        "save_button.on_click(save_video_and_caption)\n",
        "\n",
        "widget_container = widgets.VBox([video_name_input, caption_input, save_button, output])\n",
        "\n",
        "display(widget_container)\n"
      ]
    },
    {
      "cell_type": "code",
      "execution_count": null,
      "metadata": {
        "colab": {
          "base_uri": "https://localhost:8080/",
          "height": 439
        },
        "id": "AmDZDbKjBQsG",
        "outputId": "66c90e6d-06d8-40be-ae29-13350a57b4e0"
      },
      "outputs": [
        {
          "data": {
            "text/html": [
              "<video controls  width=\"350\"  height=\"400\">\n",
              " <source src=\"data:video/mp4;base64,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\" type=\"video/mp4\">\n",
              " Your browser does not support the video tag.\n",
              " </video>"
            ],
            "text/plain": [
              "<IPython.core.display.Video object>"
            ]
          },
          "metadata": {},
          "output_type": "display_data"
        },
        {
          "name": "stdout",
          "output_type": "stream",
          "text": [
            "Processed hello.mp4 with caption from config file.\n"
          ]
        }
      ],
      "source": [
        "import os\n",
        "import subprocess\n",
        "from IPython.display import display, Video\n",
        "import configparser\n",
        "\n",
        "# Specify the folder where the videos with captions are saved\n",
        "output_folder = \"/content/FollowYourPose/\"\n",
        "\n",
        "# List all video files in the output folder\n",
        "video_files = [file for file in os.listdir(output_folder) if file.endswith(\".mp4\")]\n",
        "\n",
        "# Specify the fixed video size (e.g., 300x300)\n",
        "fixed_video_width = 300\n",
        "fixed_video_height = 300\n",
        "\n",
        "# Specify the fixed frame size (e.g., 350x400)\n",
        "fixed_frame_width = 350\n",
        "fixed_frame_height = 400\n",
        "\n",
        "# Specify the caption offset (e.g., 50 pixels above the bottom)\n",
        "caption_offset = 50\n",
        "\n",
        "# Iterate through the video files\n",
        "for video_file in video_files:\n",
        "    input_video_path = os.path.join(output_folder, video_file)\n",
        "    output_video_path = os.path.join(output_folder, f\"{video_file.split('.')[0]}_with_caption.mp4\")\n",
        "\n",
        "    # Read the config file\n",
        "    config_file_path = os.path.join(output_folder, f\"{video_file.split('.')[0]}.ini\")\n",
        "    if os.path.exists(config_file_path):\n",
        "        config = configparser.ConfigParser()\n",
        "        config.read(config_file_path)\n",
        "        caption_text = config.get(\"Captions\", \"caption_text\")\n",
        "    else:\n",
        "        caption_text = \"No caption available\"\n",
        "\n",
        "    # Use FFmpeg to resize the video to the fixed dimensions and overlay the caption text at the bottom\n",
        "    ffmpeg_command = (\n",
        "        \"ffmpeg -i {input_video} -vf \"\n",
        "        \"\\\"scale={video_width}:{video_height},\"\n",
        "        \"drawtext=text='{caption}':x=10:y=h-{caption_offset}:fontsize=24:fontcolor=white,\"\n",
        "        \"scale={frame_width}:{frame_height}\\\" \"\n",
        "        \"-c:v libx264 -preset medium -crf 23 -c:a aac -strict experimental -b:a 192k {output_video}\"\n",
        "    )\n",
        "\n",
        "    subprocess.run(\n",
        "        ffmpeg_command.format(\n",
        "            input_video=input_video_path,\n",
        "            caption=caption_text,\n",
        "            video_width=fixed_video_width,\n",
        "            video_height=fixed_video_height,\n",
        "            caption_offset=caption_offset,\n",
        "            frame_width=fixed_frame_width,\n",
        "            frame_height=fixed_frame_height,\n",
        "            output_video=output_video_path,\n",
        "        ),\n",
        "        shell=True,\n",
        "    )\n",
        "\n",
        "    # Display and play the modified video\n",
        "    display(Video(output_video_path, embed=True, width=fixed_frame_width, height=fixed_frame_height))\n",
        "\n",
        "    print(f\"Processed {video_file} with caption from config file.\")\n"
      ]
    },
    {
      "cell_type": "code",
      "execution_count": null,
      "metadata": {
        "id": "4Zhr_mSgMtI7"
      },
      "outputs": [],
      "source": []
    },
    {
      "cell_type": "code",
      "execution_count": null,
      "metadata": {
        "id": "qOlG6MctMtfx"
      },
      "outputs": [],
      "source": []
    },
    {
      "cell_type": "code",
      "execution_count": null,
      "metadata": {
        "id": "wXqrRqD0Mtla"
      },
      "outputs": [],
      "source": []
    },
    {
      "cell_type": "code",
      "execution_count": null,
      "metadata": {
        "id": "vN4Q5SDJMtod"
      },
      "outputs": [],
      "source": []
    },
    {
      "cell_type": "code",
      "execution_count": null,
      "metadata": {
        "id": "v9wFx3oEMtrV"
      },
      "outputs": [],
      "source": []
    },
    {
      "cell_type": "code",
      "execution_count": null,
      "metadata": {
        "id": "nBOzMhOnMtuS"
      },
      "outputs": [],
      "source": []
    },
    {
      "cell_type": "code",
      "execution_count": null,
      "metadata": {
        "id": "QKoEvhDVMtxb"
      },
      "outputs": [],
      "source": []
    },
    {
      "cell_type": "markdown",
      "metadata": {
        "id": "C_TKvpswS0oW"
      },
      "source": [
        "## **Select and save the best-trained model and delete other models generated during training**"
      ]
    },
    {
      "cell_type": "code",
      "execution_count": null,
      "metadata": {
        "colab": {
          "base_uri": "https://localhost:8080/",
          "height": 81,
          "referenced_widgets": [
            "38652fab75a34b3c8ce95429a983d17e",
            "231c24df31f14e2797ed3115c459f3ef",
            "18059627c39c4025b0bb1b108b0d2c0f",
            "1d9f4806b1e2434990b88af36119e3c6",
            "a39688990e2a4f65922c59b9f988e749",
            "36921fb15f704c999b060722b415e9c5",
            "3556e1e12e7141f497cf844f7653c804",
            "55fdf8a58c504c9986ce1dae34f21c3f"
          ]
        },
        "id": "9RlZiG5YPjKy",
        "outputId": "7c9c23a1-6343-49fe-8308-38d2f411cf50"
      },
      "outputs": [
        {
          "data": {
            "application/vnd.jupyter.widget-view+json": {
              "model_id": "38652fab75a34b3c8ce95429a983d17e",
              "version_major": 2,
              "version_minor": 0
            },
            "text/plain": [
              "Dropdown(description='Select Model:', options=('.ipynb_checkpoints', 'model2', 'model1'), value='.ipynb_checkp…"
            ]
          },
          "metadata": {},
          "output_type": "display_data"
        },
        {
          "data": {
            "application/vnd.jupyter.widget-view+json": {
              "model_id": "1d9f4806b1e2434990b88af36119e3c6",
              "version_major": 2,
              "version_minor": 0
            },
            "text/plain": [
              "Button(description='Select Best Model and Delete Others', style=ButtonStyle())"
            ]
          },
          "metadata": {},
          "output_type": "display_data"
        },
        {
          "data": {
            "application/vnd.jupyter.widget-view+json": {
              "model_id": "3556e1e12e7141f497cf844f7653c804",
              "version_major": 2,
              "version_minor": 0
            },
            "text/plain": [
              "Output()"
            ]
          },
          "metadata": {},
          "output_type": "display_data"
        }
      ],
      "source": [
        "import os\n",
        "from ipywidgets import Dropdown, Button, Output\n",
        "\n",
        "# Step 1: List saved models\n",
        "def list_saved_models():\n",
        "    # List saved models in the current directory\n",
        "    folder = \"/content/FollowYourPose/output/\"\n",
        "    saved_models = [f for f in os.listdir(folder) if os.path.isdir(os.path.join(folder, f))]\n",
        "    return saved_models\n",
        "\n",
        "# Step 2: User selection\n",
        "def select_best_model(available_models):\n",
        "    print(\"Available Models:\")\n",
        "    for i, model in enumerate(available_models):\n",
        "        print(f\"{i + 1}. {model}\")\n",
        "    selection = int(input(\"Select the best model (enter the corresponding number): \"))\n",
        "    if 1 <= selection <= len(available_models):\n",
        "        return available_models[selection - 1]\n",
        "    else:\n",
        "        print(\"Invalid selection. Please try again.\")\n",
        "        return select_best_model(available_models)\n",
        "\n",
        "# Step 3: Deletion of unused models\n",
        "def delete_unused_models(user_selected_model, available_models):\n",
        "    print(f\"Deleting unused models (keeping {user_selected_model})\")\n",
        "    for model in available_models:\n",
        "        if model != user_selected_model:\n",
        "            os.remove(model)\n",
        "            print(f\"Deleted: {model}\")\n",
        "\n",
        "# Step 4: UI Feedback\n",
        "out = Output()\n",
        "\n",
        "# Function to handle best model selection and deletion\n",
        "def handle_best_model_selection(b):\n",
        "    with out:\n",
        "        available_models = list_saved_models()\n",
        "        if not available_models:\n",
        "            print(\"No models found.\")\n",
        "            return\n",
        "\n",
        "        user_selected_model = select_best_model(available_models)\n",
        "        delete_unused_models(user_selected_model, available_models)\n",
        "        print(f\"The best model is: {user_selected_model}\")\n",
        "        print(\"Other models have been deleted.\")\n",
        "\n",
        "# UI components\n",
        "dropdown = Dropdown(\n",
        "    options=list_saved_models(),\n",
        "    description='Select Model:'\n",
        ")\n",
        "button = Button(description=\"Select Best Model and Delete Others\")\n",
        "button.on_click(handle_best_model_selection)\n",
        "\n",
        "# Display UI components\n",
        "display(dropdown, button, out)\n"
      ]
    }
  ],
  "metadata": {
    "accelerator": "GPU",
    "colab": {
      "gpuType": "T4",
      "provenance": []
    },
    "kernelspec": {
      "display_name": "Python 3",
      "name": "python3"
    },
    "language_info": {
      "codemirror_mode": {
        "name": "ipython",
        "version": 3
      },
      "file_extension": ".py",
      "mimetype": "text/x-python",
      "name": "python",
      "nbconvert_exporter": "python",
      "pygments_lexer": "ipython3",
      "version": "3.11.4"
    },
    "widgets": {
      "application/vnd.jupyter.widget-state+json": {
        "084ffbf716b44e19b6e9ba8ca9cfba25": {
          "model_module": "@jupyter-widgets/base",
          "model_module_version": "1.2.0",
          "model_name": "LayoutModel",
          "state": {
            "_model_module": "@jupyter-widgets/base",
            "_model_module_version": "1.2.0",
            "_model_name": "LayoutModel",
            "_view_count": null,
            "_view_module": "@jupyter-widgets/base",
            "_view_module_version": "1.2.0",
            "_view_name": "LayoutView",
            "align_content": null,
            "align_items": null,
            "align_self": null,
            "border": null,
            "bottom": null,
            "display": null,
            "flex": null,
            "flex_flow": null,
            "grid_area": null,
            "grid_auto_columns": null,
            "grid_auto_flow": null,
            "grid_auto_rows": null,
            "grid_column": null,
            "grid_gap": null,
            "grid_row": null,
            "grid_template_areas": null,
            "grid_template_columns": null,
            "grid_template_rows": null,
            "height": null,
            "justify_content": null,
            "justify_items": null,
            "left": null,
            "margin": null,
            "max_height": null,
            "max_width": null,
            "min_height": null,
            "min_width": null,
            "object_fit": null,
            "object_position": null,
            "order": null,
            "overflow": null,
            "overflow_x": null,
            "overflow_y": null,
            "padding": null,
            "right": null,
            "top": null,
            "visibility": null,
            "width": null
          }
        },
        "09404fbab00d4a119a750e0ef136a2fd": {
          "model_module": "@jupyter-widgets/controls",
          "model_module_version": "1.5.0",
          "model_name": "ButtonModel",
          "state": {
            "_dom_classes": [],
            "_model_module": "@jupyter-widgets/controls",
            "_model_module_version": "1.5.0",
            "_model_name": "ButtonModel",
            "_view_count": null,
            "_view_module": "@jupyter-widgets/controls",
            "_view_module_version": "1.5.0",
            "_view_name": "ButtonView",
            "button_style": "",
            "description": "Save Video and Caption",
            "disabled": false,
            "icon": "",
            "layout": "IPY_MODEL_4ecd6066d60c43bfa37a73dd92aca62a",
            "style": "IPY_MODEL_21dbb5763b5e4eccb96aab32e5c9f4d8",
            "tooltip": ""
          }
        },
        "0bd941ced99c4cba95921dd57aa17f59": {
          "model_module": "@jupyter-widgets/output",
          "model_module_version": "1.0.0",
          "model_name": "OutputModel",
          "state": {
            "_dom_classes": [],
            "_model_module": "@jupyter-widgets/output",
            "_model_module_version": "1.0.0",
            "_model_name": "OutputModel",
            "_view_count": null,
            "_view_module": "@jupyter-widgets/output",
            "_view_module_version": "1.0.0",
            "_view_name": "OutputView",
            "layout": "IPY_MODEL_884d994a0ffd40e5b9ff13f49fdf27d4",
            "msg_id": "",
            "outputs": [
              {
                "data": {
                  "application/vnd.jupyter.widget-view+json": {
                    "model_id": "84d06de7361641319ba6de6e3f1f135d",
                    "version_major": 2,
                    "version_minor": 0
                  },
                  "text/plain": "Video(value=b'\\x00\\x00\\x00 ftypisom\\x00\\x00\\x02\\x00isomiso2avc1mp41\\x00\\x00\\x00\\x08free\\x00\\x14$pmdat\\x00\\x00\\…"
                },
                "metadata": {},
                "output_type": "display_data"
              }
            ]
          }
        },
        "0fd0b2f0004a4583a7a2bb4b65f91583": {
          "model_module": "@jupyter-widgets/controls",
          "model_module_version": "1.5.0",
          "model_name": "LabelModel",
          "state": {
            "_dom_classes": [],
            "_model_module": "@jupyter-widgets/controls",
            "_model_module_version": "1.5.0",
            "_model_name": "LabelModel",
            "_view_count": null,
            "_view_module": "@jupyter-widgets/controls",
            "_view_module_version": "1.5.0",
            "_view_name": "LabelView",
            "description": "",
            "description_tooltip": null,
            "layout": "IPY_MODEL_4331ef1ffb354322a567a399c31624f8",
            "placeholder": "​",
            "style": "IPY_MODEL_4d1a1d8ca78d4ca187671d1fd2b279bb",
            "value": "Enter a short description of the video"
          }
        },
        "18059627c39c4025b0bb1b108b0d2c0f": {
          "model_module": "@jupyter-widgets/controls",
          "model_module_version": "1.5.0",
          "model_name": "DescriptionStyleModel",
          "state": {
            "_model_module": "@jupyter-widgets/controls",
            "_model_module_version": "1.5.0",
            "_model_name": "DescriptionStyleModel",
            "_view_count": null,
            "_view_module": "@jupyter-widgets/base",
            "_view_module_version": "1.2.0",
            "_view_name": "StyleView",
            "description_width": ""
          }
        },
        "1d9f4806b1e2434990b88af36119e3c6": {
          "model_module": "@jupyter-widgets/controls",
          "model_module_version": "1.5.0",
          "model_name": "ButtonModel",
          "state": {
            "_dom_classes": [],
            "_model_module": "@jupyter-widgets/controls",
            "_model_module_version": "1.5.0",
            "_model_name": "ButtonModel",
            "_view_count": null,
            "_view_module": "@jupyter-widgets/controls",
            "_view_module_version": "1.5.0",
            "_view_name": "ButtonView",
            "button_style": "",
            "description": "Select Best Model and Delete Others",
            "disabled": false,
            "icon": "",
            "layout": "IPY_MODEL_a39688990e2a4f65922c59b9f988e749",
            "style": "IPY_MODEL_36921fb15f704c999b060722b415e9c5",
            "tooltip": ""
          }
        },
        "210dbc43bd314ad9a45ab63b59ad3d2d": {
          "model_module": "@jupyter-widgets/controls",
          "model_module_version": "1.5.0",
          "model_name": "ButtonStyleModel",
          "state": {
            "_model_module": "@jupyter-widgets/controls",
            "_model_module_version": "1.5.0",
            "_model_name": "ButtonStyleModel",
            "_view_count": null,
            "_view_module": "@jupyter-widgets/base",
            "_view_module_version": "1.2.0",
            "_view_name": "StyleView",
            "button_color": null,
            "font_weight": ""
          }
        },
        "21dbb5763b5e4eccb96aab32e5c9f4d8": {
          "model_module": "@jupyter-widgets/controls",
          "model_module_version": "1.5.0",
          "model_name": "ButtonStyleModel",
          "state": {
            "_model_module": "@jupyter-widgets/controls",
            "_model_module_version": "1.5.0",
            "_model_name": "ButtonStyleModel",
            "_view_count": null,
            "_view_module": "@jupyter-widgets/base",
            "_view_module_version": "1.2.0",
            "_view_name": "StyleView",
            "button_color": null,
            "font_weight": ""
          }
        },
        "231c24df31f14e2797ed3115c459f3ef": {
          "model_module": "@jupyter-widgets/base",
          "model_module_version": "1.2.0",
          "model_name": "LayoutModel",
          "state": {
            "_model_module": "@jupyter-widgets/base",
            "_model_module_version": "1.2.0",
            "_model_name": "LayoutModel",
            "_view_count": null,
            "_view_module": "@jupyter-widgets/base",
            "_view_module_version": "1.2.0",
            "_view_name": "LayoutView",
            "align_content": null,
            "align_items": null,
            "align_self": null,
            "border": null,
            "bottom": null,
            "display": null,
            "flex": null,
            "flex_flow": null,
            "grid_area": null,
            "grid_auto_columns": null,
            "grid_auto_flow": null,
            "grid_auto_rows": null,
            "grid_column": null,
            "grid_gap": null,
            "grid_row": null,
            "grid_template_areas": null,
            "grid_template_columns": null,
            "grid_template_rows": null,
            "height": null,
            "justify_content": null,
            "justify_items": null,
            "left": null,
            "margin": null,
            "max_height": null,
            "max_width": null,
            "min_height": null,
            "min_width": null,
            "object_fit": null,
            "object_position": null,
            "order": null,
            "overflow": null,
            "overflow_x": null,
            "overflow_y": null,
            "padding": null,
            "right": null,
            "top": null,
            "visibility": null,
            "width": null
          }
        },
        "25169709526f4aebb82415fd41f52212": {
          "model_module": "@jupyter-widgets/base",
          "model_module_version": "1.2.0",
          "model_name": "LayoutModel",
          "state": {
            "_model_module": "@jupyter-widgets/base",
            "_model_module_version": "1.2.0",
            "_model_name": "LayoutModel",
            "_view_count": null,
            "_view_module": "@jupyter-widgets/base",
            "_view_module_version": "1.2.0",
            "_view_name": "LayoutView",
            "align_content": null,
            "align_items": null,
            "align_self": null,
            "border": null,
            "bottom": null,
            "display": null,
            "flex": null,
            "flex_flow": null,
            "grid_area": null,
            "grid_auto_columns": null,
            "grid_auto_flow": null,
            "grid_auto_rows": null,
            "grid_column": null,
            "grid_gap": null,
            "grid_row": null,
            "grid_template_areas": null,
            "grid_template_columns": null,
            "grid_template_rows": null,
            "height": null,
            "justify_content": null,
            "justify_items": null,
            "left": null,
            "margin": null,
            "max_height": null,
            "max_width": null,
            "min_height": null,
            "min_width": null,
            "object_fit": null,
            "object_position": null,
            "order": null,
            "overflow": null,
            "overflow_x": null,
            "overflow_y": null,
            "padding": null,
            "right": null,
            "top": null,
            "visibility": null,
            "width": null
          }
        },
        "2ca340aec13b42df922b9d4954a8c2d4": {
          "model_module": "@jupyter-widgets/base",
          "model_module_version": "1.2.0",
          "model_name": "LayoutModel",
          "state": {
            "_model_module": "@jupyter-widgets/base",
            "_model_module_version": "1.2.0",
            "_model_name": "LayoutModel",
            "_view_count": null,
            "_view_module": "@jupyter-widgets/base",
            "_view_module_version": "1.2.0",
            "_view_name": "LayoutView",
            "align_content": null,
            "align_items": null,
            "align_self": null,
            "border": null,
            "bottom": null,
            "display": null,
            "flex": null,
            "flex_flow": null,
            "grid_area": null,
            "grid_auto_columns": null,
            "grid_auto_flow": null,
            "grid_auto_rows": null,
            "grid_column": null,
            "grid_gap": null,
            "grid_row": null,
            "grid_template_areas": null,
            "grid_template_columns": null,
            "grid_template_rows": null,
            "height": null,
            "justify_content": null,
            "justify_items": null,
            "left": null,
            "margin": null,
            "max_height": null,
            "max_width": null,
            "min_height": null,
            "min_width": null,
            "object_fit": null,
            "object_position": null,
            "order": null,
            "overflow": null,
            "overflow_x": null,
            "overflow_y": null,
            "padding": null,
            "right": null,
            "top": null,
            "visibility": null,
            "width": null
          }
        },
        "2da6faafe77542278833b370404136fd": {
          "model_module": "@jupyter-widgets/base",
          "model_module_version": "1.2.0",
          "model_name": "LayoutModel",
          "state": {
            "_model_module": "@jupyter-widgets/base",
            "_model_module_version": "1.2.0",
            "_model_name": "LayoutModel",
            "_view_count": null,
            "_view_module": "@jupyter-widgets/base",
            "_view_module_version": "1.2.0",
            "_view_name": "LayoutView",
            "align_content": null,
            "align_items": null,
            "align_self": null,
            "border": null,
            "bottom": null,
            "display": null,
            "flex": null,
            "flex_flow": null,
            "grid_area": null,
            "grid_auto_columns": null,
            "grid_auto_flow": null,
            "grid_auto_rows": null,
            "grid_column": null,
            "grid_gap": null,
            "grid_row": null,
            "grid_template_areas": null,
            "grid_template_columns": null,
            "grid_template_rows": null,
            "height": null,
            "justify_content": null,
            "justify_items": null,
            "left": null,
            "margin": null,
            "max_height": null,
            "max_width": null,
            "min_height": null,
            "min_width": null,
            "object_fit": null,
            "object_position": null,
            "order": null,
            "overflow": null,
            "overflow_x": null,
            "overflow_y": null,
            "padding": null,
            "right": null,
            "top": null,
            "visibility": null,
            "width": null
          }
        },
        "3556e1e12e7141f497cf844f7653c804": {
          "model_module": "@jupyter-widgets/output",
          "model_module_version": "1.0.0",
          "model_name": "OutputModel",
          "state": {
            "_dom_classes": [],
            "_model_module": "@jupyter-widgets/output",
            "_model_module_version": "1.0.0",
            "_model_name": "OutputModel",
            "_view_count": null,
            "_view_module": "@jupyter-widgets/output",
            "_view_module_version": "1.0.0",
            "_view_name": "OutputView",
            "layout": "IPY_MODEL_55fdf8a58c504c9986ce1dae34f21c3f",
            "msg_id": "",
            "outputs": []
          }
        },
        "35fca6d5e2d6492badf00ddf138fc51c": {
          "model_module": "@jupyter-widgets/controls",
          "model_module_version": "1.5.0",
          "model_name": "TextModel",
          "state": {
            "_dom_classes": [],
            "_model_module": "@jupyter-widgets/controls",
            "_model_module_version": "1.5.0",
            "_model_name": "TextModel",
            "_view_count": null,
            "_view_module": "@jupyter-widgets/controls",
            "_view_module_version": "1.5.0",
            "_view_name": "TextView",
            "continuous_update": true,
            "description": "Caption:",
            "description_tooltip": null,
            "disabled": false,
            "layout": "IPY_MODEL_52164e12bd0b4333afa81f4ca0c327c1",
            "placeholder": "Enter caption",
            "style": "IPY_MODEL_4ccfa4c001774b7ca13fd57314cad521",
            "value": "dancing"
          }
        },
        "36921fb15f704c999b060722b415e9c5": {
          "model_module": "@jupyter-widgets/controls",
          "model_module_version": "1.5.0",
          "model_name": "ButtonStyleModel",
          "state": {
            "_model_module": "@jupyter-widgets/controls",
            "_model_module_version": "1.5.0",
            "_model_name": "ButtonStyleModel",
            "_view_count": null,
            "_view_module": "@jupyter-widgets/base",
            "_view_module_version": "1.2.0",
            "_view_name": "StyleView",
            "button_color": null,
            "font_weight": ""
          }
        },
        "38652fab75a34b3c8ce95429a983d17e": {
          "model_module": "@jupyter-widgets/controls",
          "model_module_version": "1.5.0",
          "model_name": "DropdownModel",
          "state": {
            "_dom_classes": [],
            "_model_module": "@jupyter-widgets/controls",
            "_model_module_version": "1.5.0",
            "_model_name": "DropdownModel",
            "_options_labels": [
              ".ipynb_checkpoints",
              "model2",
              "model1"
            ],
            "_view_count": null,
            "_view_module": "@jupyter-widgets/controls",
            "_view_module_version": "1.5.0",
            "_view_name": "DropdownView",
            "description": "Select Model:",
            "description_tooltip": null,
            "disabled": false,
            "index": 0,
            "layout": "IPY_MODEL_231c24df31f14e2797ed3115c459f3ef",
            "style": "IPY_MODEL_18059627c39c4025b0bb1b108b0d2c0f"
          }
        },
        "3915ef100d004327a171d4aaf0d2713a": {
          "model_module": "@jupyter-widgets/base",
          "model_module_version": "1.2.0",
          "model_name": "LayoutModel",
          "state": {
            "_model_module": "@jupyter-widgets/base",
            "_model_module_version": "1.2.0",
            "_model_name": "LayoutModel",
            "_view_count": null,
            "_view_module": "@jupyter-widgets/base",
            "_view_module_version": "1.2.0",
            "_view_name": "LayoutView",
            "align_content": null,
            "align_items": null,
            "align_self": null,
            "border": null,
            "bottom": null,
            "display": null,
            "flex": null,
            "flex_flow": null,
            "grid_area": null,
            "grid_auto_columns": null,
            "grid_auto_flow": null,
            "grid_auto_rows": null,
            "grid_column": null,
            "grid_gap": null,
            "grid_row": null,
            "grid_template_areas": null,
            "grid_template_columns": null,
            "grid_template_rows": null,
            "height": null,
            "justify_content": null,
            "justify_items": null,
            "left": null,
            "margin": null,
            "max_height": null,
            "max_width": null,
            "min_height": null,
            "min_width": null,
            "object_fit": null,
            "object_position": null,
            "order": null,
            "overflow": null,
            "overflow_x": null,
            "overflow_y": null,
            "padding": null,
            "right": null,
            "top": null,
            "visibility": null,
            "width": null
          }
        },
        "3bcc454e17ce41ff8f3ba27439ffb40f": {
          "model_module": "@jupyter-widgets/controls",
          "model_module_version": "1.5.0",
          "model_name": "DescriptionStyleModel",
          "state": {
            "_model_module": "@jupyter-widgets/controls",
            "_model_module_version": "1.5.0",
            "_model_name": "DescriptionStyleModel",
            "_view_count": null,
            "_view_module": "@jupyter-widgets/base",
            "_view_module_version": "1.2.0",
            "_view_name": "StyleView",
            "description_width": ""
          }
        },
        "4331ef1ffb354322a567a399c31624f8": {
          "model_module": "@jupyter-widgets/base",
          "model_module_version": "1.2.0",
          "model_name": "LayoutModel",
          "state": {
            "_model_module": "@jupyter-widgets/base",
            "_model_module_version": "1.2.0",
            "_model_name": "LayoutModel",
            "_view_count": null,
            "_view_module": "@jupyter-widgets/base",
            "_view_module_version": "1.2.0",
            "_view_name": "LayoutView",
            "align_content": null,
            "align_items": null,
            "align_self": null,
            "border": null,
            "bottom": null,
            "display": null,
            "flex": null,
            "flex_flow": null,
            "grid_area": null,
            "grid_auto_columns": null,
            "grid_auto_flow": null,
            "grid_auto_rows": null,
            "grid_column": null,
            "grid_gap": null,
            "grid_row": null,
            "grid_template_areas": null,
            "grid_template_columns": null,
            "grid_template_rows": null,
            "height": null,
            "justify_content": null,
            "justify_items": null,
            "left": null,
            "margin": null,
            "max_height": null,
            "max_width": null,
            "min_height": null,
            "min_width": null,
            "object_fit": null,
            "object_position": null,
            "order": null,
            "overflow": null,
            "overflow_x": null,
            "overflow_y": null,
            "padding": null,
            "right": null,
            "top": null,
            "visibility": null,
            "width": null
          }
        },
        "483ee0784d0846c1a0c2a36c7e2b4873": {
          "model_module": "@jupyter-widgets/controls",
          "model_module_version": "1.5.0",
          "model_name": "DescriptionStyleModel",
          "state": {
            "_model_module": "@jupyter-widgets/controls",
            "_model_module_version": "1.5.0",
            "_model_name": "DescriptionStyleModel",
            "_view_count": null,
            "_view_module": "@jupyter-widgets/base",
            "_view_module_version": "1.2.0",
            "_view_name": "StyleView",
            "description_width": ""
          }
        },
        "4ccfa4c001774b7ca13fd57314cad521": {
          "model_module": "@jupyter-widgets/controls",
          "model_module_version": "1.5.0",
          "model_name": "DescriptionStyleModel",
          "state": {
            "_model_module": "@jupyter-widgets/controls",
            "_model_module_version": "1.5.0",
            "_model_name": "DescriptionStyleModel",
            "_view_count": null,
            "_view_module": "@jupyter-widgets/base",
            "_view_module_version": "1.2.0",
            "_view_name": "StyleView",
            "description_width": ""
          }
        },
        "4d1a1d8ca78d4ca187671d1fd2b279bb": {
          "model_module": "@jupyter-widgets/controls",
          "model_module_version": "1.5.0",
          "model_name": "DescriptionStyleModel",
          "state": {
            "_model_module": "@jupyter-widgets/controls",
            "_model_module_version": "1.5.0",
            "_model_name": "DescriptionStyleModel",
            "_view_count": null,
            "_view_module": "@jupyter-widgets/base",
            "_view_module_version": "1.2.0",
            "_view_name": "StyleView",
            "description_width": ""
          }
        },
        "4ecd6066d60c43bfa37a73dd92aca62a": {
          "model_module": "@jupyter-widgets/base",
          "model_module_version": "1.2.0",
          "model_name": "LayoutModel",
          "state": {
            "_model_module": "@jupyter-widgets/base",
            "_model_module_version": "1.2.0",
            "_model_name": "LayoutModel",
            "_view_count": null,
            "_view_module": "@jupyter-widgets/base",
            "_view_module_version": "1.2.0",
            "_view_name": "LayoutView",
            "align_content": null,
            "align_items": null,
            "align_self": null,
            "border": null,
            "bottom": null,
            "display": null,
            "flex": null,
            "flex_flow": null,
            "grid_area": null,
            "grid_auto_columns": null,
            "grid_auto_flow": null,
            "grid_auto_rows": null,
            "grid_column": null,
            "grid_gap": null,
            "grid_row": null,
            "grid_template_areas": null,
            "grid_template_columns": null,
            "grid_template_rows": null,
            "height": null,
            "justify_content": null,
            "justify_items": null,
            "left": null,
            "margin": null,
            "max_height": null,
            "max_width": null,
            "min_height": null,
            "min_width": null,
            "object_fit": null,
            "object_position": null,
            "order": null,
            "overflow": null,
            "overflow_x": null,
            "overflow_y": null,
            "padding": null,
            "right": null,
            "top": null,
            "visibility": null,
            "width": null
          }
        },
        "51b99e16f14e4b1e9b5b491a70c17698": {
          "model_module": "@jupyter-widgets/controls",
          "model_module_version": "1.5.0",
          "model_name": "ButtonModel",
          "state": {
            "_dom_classes": [],
            "_model_module": "@jupyter-widgets/controls",
            "_model_module_version": "1.5.0",
            "_model_name": "ButtonModel",
            "_view_count": null,
            "_view_module": "@jupyter-widgets/controls",
            "_view_module_version": "1.5.0",
            "_view_name": "ButtonView",
            "button_style": "",
            "description": "Remove ID",
            "disabled": false,
            "icon": "",
            "layout": "IPY_MODEL_2da6faafe77542278833b370404136fd",
            "style": "IPY_MODEL_793f9413dc4f486f8292d2063c4ffac0",
            "tooltip": ""
          }
        },
        "52164e12bd0b4333afa81f4ca0c327c1": {
          "model_module": "@jupyter-widgets/base",
          "model_module_version": "1.2.0",
          "model_name": "LayoutModel",
          "state": {
            "_model_module": "@jupyter-widgets/base",
            "_model_module_version": "1.2.0",
            "_model_name": "LayoutModel",
            "_view_count": null,
            "_view_module": "@jupyter-widgets/base",
            "_view_module_version": "1.2.0",
            "_view_name": "LayoutView",
            "align_content": null,
            "align_items": null,
            "align_self": null,
            "border": null,
            "bottom": null,
            "display": null,
            "flex": null,
            "flex_flow": null,
            "grid_area": null,
            "grid_auto_columns": null,
            "grid_auto_flow": null,
            "grid_auto_rows": null,
            "grid_column": null,
            "grid_gap": null,
            "grid_row": null,
            "grid_template_areas": null,
            "grid_template_columns": null,
            "grid_template_rows": null,
            "height": null,
            "justify_content": null,
            "justify_items": null,
            "left": null,
            "margin": null,
            "max_height": null,
            "max_width": null,
            "min_height": null,
            "min_width": null,
            "object_fit": null,
            "object_position": null,
            "order": null,
            "overflow": null,
            "overflow_x": null,
            "overflow_y": null,
            "padding": null,
            "right": null,
            "top": null,
            "visibility": null,
            "width": null
          }
        },
        "559a4d508c1642d3b73dcc376cf137b2": {
          "model_module": "@jupyter-widgets/controls",
          "model_module_version": "1.5.0",
          "model_name": "TextModel",
          "state": {
            "_dom_classes": [],
            "_model_module": "@jupyter-widgets/controls",
            "_model_module_version": "1.5.0",
            "_model_name": "TextModel",
            "_view_count": null,
            "_view_module": "@jupyter-widgets/controls",
            "_view_module_version": "1.5.0",
            "_view_name": "TextView",
            "continuous_update": true,
            "description": "Video name:",
            "description_tooltip": null,
            "disabled": false,
            "layout": "IPY_MODEL_b87922d55a8f42ea8f6749da70ffc90c",
            "placeholder": "Enter video name",
            "style": "IPY_MODEL_e25d15416dc54aea9646d671a3ef5ed4",
            "value": "hello"
          }
        },
        "55fdf8a58c504c9986ce1dae34f21c3f": {
          "model_module": "@jupyter-widgets/base",
          "model_module_version": "1.2.0",
          "model_name": "LayoutModel",
          "state": {
            "_model_module": "@jupyter-widgets/base",
            "_model_module_version": "1.2.0",
            "_model_name": "LayoutModel",
            "_view_count": null,
            "_view_module": "@jupyter-widgets/base",
            "_view_module_version": "1.2.0",
            "_view_name": "LayoutView",
            "align_content": null,
            "align_items": null,
            "align_self": null,
            "border": null,
            "bottom": null,
            "display": null,
            "flex": null,
            "flex_flow": null,
            "grid_area": null,
            "grid_auto_columns": null,
            "grid_auto_flow": null,
            "grid_auto_rows": null,
            "grid_column": null,
            "grid_gap": null,
            "grid_row": null,
            "grid_template_areas": null,
            "grid_template_columns": null,
            "grid_template_rows": null,
            "height": null,
            "justify_content": null,
            "justify_items": null,
            "left": null,
            "margin": null,
            "max_height": null,
            "max_width": null,
            "min_height": null,
            "min_width": null,
            "object_fit": null,
            "object_position": null,
            "order": null,
            "overflow": null,
            "overflow_x": null,
            "overflow_y": null,
            "padding": null,
            "right": null,
            "top": null,
            "visibility": null,
            "width": null
          }
        },
        "608d1f40a7554310bd39d294dfeba870": {
          "model_module": "@jupyter-widgets/controls",
          "model_module_version": "1.5.0",
          "model_name": "DropdownModel",
          "state": {
            "_dom_classes": [],
            "_model_module": "@jupyter-widgets/controls",
            "_model_module_version": "1.5.0",
            "_model_name": "DropdownModel",
            "_options_labels": [
              "X8AP2"
            ],
            "_view_count": null,
            "_view_module": "@jupyter-widgets/controls",
            "_view_module_version": "1.5.0",
            "_view_name": "DropdownView",
            "description": "Select ID:",
            "description_tooltip": null,
            "disabled": false,
            "index": 0,
            "layout": "IPY_MODEL_c78c3c1e7adb4873a975f82c6f46c222",
            "style": "IPY_MODEL_8b9f5b7eeb584eabab0413599372c989"
          }
        },
        "708daabcc5d345f997e9f3e38a2fef9c": {
          "model_module": "@jupyter-widgets/controls",
          "model_module_version": "1.5.0",
          "model_name": "VBoxModel",
          "state": {
            "_dom_classes": [],
            "_model_module": "@jupyter-widgets/controls",
            "_model_module_version": "1.5.0",
            "_model_name": "VBoxModel",
            "_view_count": null,
            "_view_module": "@jupyter-widgets/controls",
            "_view_module_version": "1.5.0",
            "_view_name": "VBoxView",
            "box_style": "",
            "children": [
              "IPY_MODEL_559a4d508c1642d3b73dcc376cf137b2",
              "IPY_MODEL_35fca6d5e2d6492badf00ddf138fc51c",
              "IPY_MODEL_09404fbab00d4a119a750e0ef136a2fd",
              "IPY_MODEL_9ec87ef7d64f4c0094a7623e0d0d695f"
            ],
            "layout": "IPY_MODEL_8ea8c9a39aaa4a4ca948a70c8a2d5f99"
          }
        },
        "713fc73822274b68b734cb18b404fc8c": {
          "model_module": "@jupyter-widgets/controls",
          "model_module_version": "1.5.0",
          "model_name": "DescriptionStyleModel",
          "state": {
            "_model_module": "@jupyter-widgets/controls",
            "_model_module_version": "1.5.0",
            "_model_name": "DescriptionStyleModel",
            "_view_count": null,
            "_view_module": "@jupyter-widgets/base",
            "_view_module_version": "1.2.0",
            "_view_name": "StyleView",
            "description_width": ""
          }
        },
        "793f9413dc4f486f8292d2063c4ffac0": {
          "model_module": "@jupyter-widgets/controls",
          "model_module_version": "1.5.0",
          "model_name": "ButtonStyleModel",
          "state": {
            "_model_module": "@jupyter-widgets/controls",
            "_model_module_version": "1.5.0",
            "_model_name": "ButtonStyleModel",
            "_view_count": null,
            "_view_module": "@jupyter-widgets/base",
            "_view_module_version": "1.2.0",
            "_view_name": "StyleView",
            "button_color": null,
            "font_weight": ""
          }
        },
        "7cc040ab9ce8461aae9388ca296d0575": {
          "model_module": "@jupyter-widgets/base",
          "model_module_version": "1.2.0",
          "model_name": "LayoutModel",
          "state": {
            "_model_module": "@jupyter-widgets/base",
            "_model_module_version": "1.2.0",
            "_model_name": "LayoutModel",
            "_view_count": null,
            "_view_module": "@jupyter-widgets/base",
            "_view_module_version": "1.2.0",
            "_view_name": "LayoutView",
            "align_content": null,
            "align_items": null,
            "align_self": null,
            "border": null,
            "bottom": null,
            "display": null,
            "flex": null,
            "flex_flow": null,
            "grid_area": null,
            "grid_auto_columns": null,
            "grid_auto_flow": null,
            "grid_auto_rows": null,
            "grid_column": null,
            "grid_gap": null,
            "grid_row": null,
            "grid_template_areas": null,
            "grid_template_columns": null,
            "grid_template_rows": null,
            "height": null,
            "justify_content": null,
            "justify_items": null,
            "left": null,
            "margin": null,
            "max_height": null,
            "max_width": null,
            "min_height": null,
            "min_width": null,
            "object_fit": null,
            "object_position": null,
            "order": null,
            "overflow": null,
            "overflow_x": null,
            "overflow_y": null,
            "padding": null,
            "right": null,
            "top": null,
            "visibility": null,
            "width": null
          }
        },
        "7eeccea57c4745b194ee8d8e8900b8e6": {
          "model_module": "@jupyter-widgets/controls",
          "model_module_version": "1.5.0",
          "model_name": "ButtonModel",
          "state": {
            "_dom_classes": [],
            "_model_module": "@jupyter-widgets/controls",
            "_model_module_version": "1.5.0",
            "_model_name": "ButtonModel",
            "_view_count": null,
            "_view_module": "@jupyter-widgets/controls",
            "_view_module_version": "1.5.0",
            "_view_name": "ButtonView",
            "button_style": "",
            "description": "Submit",
            "disabled": false,
            "icon": "",
            "layout": "IPY_MODEL_d8e9036ab89642a2be74d8fc21e23ff9",
            "style": "IPY_MODEL_210dbc43bd314ad9a45ab63b59ad3d2d",
            "tooltip": ""
          }
        },
        "7f020a34be484ca8b04e277684a9f9df": {
          "model_module": "@jupyter-widgets/base",
          "model_module_version": "1.2.0",
          "model_name": "LayoutModel",
          "state": {
            "_model_module": "@jupyter-widgets/base",
            "_model_module_version": "1.2.0",
            "_model_name": "LayoutModel",
            "_view_count": null,
            "_view_module": "@jupyter-widgets/base",
            "_view_module_version": "1.2.0",
            "_view_name": "LayoutView",
            "align_content": null,
            "align_items": null,
            "align_self": null,
            "border": null,
            "bottom": null,
            "display": null,
            "flex": null,
            "flex_flow": null,
            "grid_area": null,
            "grid_auto_columns": null,
            "grid_auto_flow": null,
            "grid_auto_rows": null,
            "grid_column": null,
            "grid_gap": null,
            "grid_row": null,
            "grid_template_areas": null,
            "grid_template_columns": null,
            "grid_template_rows": null,
            "height": null,
            "justify_content": null,
            "justify_items": null,
            "left": null,
            "margin": null,
            "max_height": null,
            "max_width": null,
            "min_height": null,
            "min_width": null,
            "object_fit": null,
            "object_position": null,
            "order": null,
            "overflow": null,
            "overflow_x": null,
            "overflow_y": null,
            "padding": null,
            "right": null,
            "top": null,
            "visibility": null,
            "width": null
          }
        },
        "84d06de7361641319ba6de6e3f1f135d": {
          "model_module": "@jupyter-widgets/controls",
          "model_module_version": "1.5.0",
          "model_name": "VideoModel",
          "state": {
            "_dom_classes": [],
            "_model_module": "@jupyter-widgets/controls",
            "_model_module_version": "1.5.0",
            "_model_name": "VideoModel",
            "_view_count": null,
            "_view_module": "@jupyter-widgets/controls",
            "_view_module_version": "1.5.0",
            "_view_name": "VideoView",
            "autoplay": true,
            "controls": true,
            "format": "mp4",
            "height": "",
            "layout": "IPY_MODEL_2ca340aec13b42df922b9d4954a8c2d4",
            "loop": true,
            "width": ""
          }
        },
        "8729c260e2244edbadc004b423334e4d": {
          "model_module": "@jupyter-widgets/controls",
          "model_module_version": "1.5.0",
          "model_name": "DropdownModel",
          "state": {
            "_dom_classes": [],
            "_model_module": "@jupyter-widgets/controls",
            "_model_module_version": "1.5.0",
            "_model_name": "DropdownModel",
            "_options_labels": [
              "--Select a folder--",
              "X8AP2"
            ],
            "_view_count": null,
            "_view_module": "@jupyter-widgets/controls",
            "_view_module_version": "1.5.0",
            "_view_name": "DropdownView",
            "description": "Select a folder:",
            "description_tooltip": null,
            "disabled": false,
            "index": 1,
            "layout": "IPY_MODEL_bac68c612dbc435fb2e6857f1d65561d",
            "style": "IPY_MODEL_e10dccc743e04d06b9151d072ee2cb82"
          }
        },
        "884d994a0ffd40e5b9ff13f49fdf27d4": {
          "model_module": "@jupyter-widgets/base",
          "model_module_version": "1.2.0",
          "model_name": "LayoutModel",
          "state": {
            "_model_module": "@jupyter-widgets/base",
            "_model_module_version": "1.2.0",
            "_model_name": "LayoutModel",
            "_view_count": null,
            "_view_module": "@jupyter-widgets/base",
            "_view_module_version": "1.2.0",
            "_view_name": "LayoutView",
            "align_content": null,
            "align_items": null,
            "align_self": null,
            "border": null,
            "bottom": null,
            "display": null,
            "flex": null,
            "flex_flow": null,
            "grid_area": null,
            "grid_auto_columns": null,
            "grid_auto_flow": null,
            "grid_auto_rows": null,
            "grid_column": null,
            "grid_gap": null,
            "grid_row": null,
            "grid_template_areas": null,
            "grid_template_columns": null,
            "grid_template_rows": null,
            "height": null,
            "justify_content": null,
            "justify_items": null,
            "left": null,
            "margin": null,
            "max_height": null,
            "max_width": null,
            "min_height": null,
            "min_width": null,
            "object_fit": null,
            "object_position": null,
            "order": null,
            "overflow": null,
            "overflow_x": null,
            "overflow_y": null,
            "padding": null,
            "right": null,
            "top": null,
            "visibility": null,
            "width": null
          }
        },
        "8b9f5b7eeb584eabab0413599372c989": {
          "model_module": "@jupyter-widgets/controls",
          "model_module_version": "1.5.0",
          "model_name": "DescriptionStyleModel",
          "state": {
            "_model_module": "@jupyter-widgets/controls",
            "_model_module_version": "1.5.0",
            "_model_name": "DescriptionStyleModel",
            "_view_count": null,
            "_view_module": "@jupyter-widgets/base",
            "_view_module_version": "1.2.0",
            "_view_name": "StyleView",
            "description_width": ""
          }
        },
        "8ea8c9a39aaa4a4ca948a70c8a2d5f99": {
          "model_module": "@jupyter-widgets/base",
          "model_module_version": "1.2.0",
          "model_name": "LayoutModel",
          "state": {
            "_model_module": "@jupyter-widgets/base",
            "_model_module_version": "1.2.0",
            "_model_name": "LayoutModel",
            "_view_count": null,
            "_view_module": "@jupyter-widgets/base",
            "_view_module_version": "1.2.0",
            "_view_name": "LayoutView",
            "align_content": null,
            "align_items": null,
            "align_self": null,
            "border": null,
            "bottom": null,
            "display": null,
            "flex": null,
            "flex_flow": null,
            "grid_area": null,
            "grid_auto_columns": null,
            "grid_auto_flow": null,
            "grid_auto_rows": null,
            "grid_column": null,
            "grid_gap": null,
            "grid_row": null,
            "grid_template_areas": null,
            "grid_template_columns": null,
            "grid_template_rows": null,
            "height": null,
            "justify_content": null,
            "justify_items": null,
            "left": null,
            "margin": null,
            "max_height": null,
            "max_width": null,
            "min_height": null,
            "min_width": null,
            "object_fit": null,
            "object_position": null,
            "order": null,
            "overflow": null,
            "overflow_x": null,
            "overflow_y": null,
            "padding": null,
            "right": null,
            "top": null,
            "visibility": null,
            "width": null
          }
        },
        "9ec87ef7d64f4c0094a7623e0d0d695f": {
          "model_module": "@jupyter-widgets/output",
          "model_module_version": "1.0.0",
          "model_name": "OutputModel",
          "state": {
            "_dom_classes": [],
            "_model_module": "@jupyter-widgets/output",
            "_model_module_version": "1.0.0",
            "_model_name": "OutputModel",
            "_view_count": null,
            "_view_module": "@jupyter-widgets/output",
            "_view_module_version": "1.0.0",
            "_view_name": "OutputView",
            "layout": "IPY_MODEL_3915ef100d004327a171d4aaf0d2713a",
            "msg_id": "",
            "outputs": [
              {
                "name": "stdout",
                "output_type": "stream",
                "text": [
                  "Saved video to file: hello.mp4\n",
                  "Saved caption to INI file: /content/FollowYourPose/hello.ini\n"
                ]
              }
            ]
          }
        },
        "a39688990e2a4f65922c59b9f988e749": {
          "model_module": "@jupyter-widgets/base",
          "model_module_version": "1.2.0",
          "model_name": "LayoutModel",
          "state": {
            "_model_module": "@jupyter-widgets/base",
            "_model_module_version": "1.2.0",
            "_model_name": "LayoutModel",
            "_view_count": null,
            "_view_module": "@jupyter-widgets/base",
            "_view_module_version": "1.2.0",
            "_view_name": "LayoutView",
            "align_content": null,
            "align_items": null,
            "align_self": null,
            "border": null,
            "bottom": null,
            "display": null,
            "flex": null,
            "flex_flow": null,
            "grid_area": null,
            "grid_auto_columns": null,
            "grid_auto_flow": null,
            "grid_auto_rows": null,
            "grid_column": null,
            "grid_gap": null,
            "grid_row": null,
            "grid_template_areas": null,
            "grid_template_columns": null,
            "grid_template_rows": null,
            "height": null,
            "justify_content": null,
            "justify_items": null,
            "left": null,
            "margin": null,
            "max_height": null,
            "max_width": null,
            "min_height": null,
            "min_width": null,
            "object_fit": null,
            "object_position": null,
            "order": null,
            "overflow": null,
            "overflow_x": null,
            "overflow_y": null,
            "padding": null,
            "right": null,
            "top": null,
            "visibility": null,
            "width": null
          }
        },
        "b0f39290a27a48ddbfdf31e328d989dc": {
          "model_module": "@jupyter-widgets/controls",
          "model_module_version": "1.5.0",
          "model_name": "TextModel",
          "state": {
            "_dom_classes": [],
            "_model_module": "@jupyter-widgets/controls",
            "_model_module_version": "1.5.0",
            "_model_name": "TextModel",
            "_view_count": null,
            "_view_module": "@jupyter-widgets/controls",
            "_view_module_version": "1.5.0",
            "_view_name": "TextView",
            "continuous_update": true,
            "description": "video name:",
            "description_tooltip": null,
            "disabled": false,
            "layout": "IPY_MODEL_084ffbf716b44e19b6e9ba8ca9cfba25",
            "placeholder": "​",
            "style": "IPY_MODEL_713fc73822274b68b734cb18b404fc8c",
            "value": "X8AP2"
          }
        },
        "b87922d55a8f42ea8f6749da70ffc90c": {
          "model_module": "@jupyter-widgets/base",
          "model_module_version": "1.2.0",
          "model_name": "LayoutModel",
          "state": {
            "_model_module": "@jupyter-widgets/base",
            "_model_module_version": "1.2.0",
            "_model_name": "LayoutModel",
            "_view_count": null,
            "_view_module": "@jupyter-widgets/base",
            "_view_module_version": "1.2.0",
            "_view_name": "LayoutView",
            "align_content": null,
            "align_items": null,
            "align_self": null,
            "border": null,
            "bottom": null,
            "display": null,
            "flex": null,
            "flex_flow": null,
            "grid_area": null,
            "grid_auto_columns": null,
            "grid_auto_flow": null,
            "grid_auto_rows": null,
            "grid_column": null,
            "grid_gap": null,
            "grid_row": null,
            "grid_template_areas": null,
            "grid_template_columns": null,
            "grid_template_rows": null,
            "height": null,
            "justify_content": null,
            "justify_items": null,
            "left": null,
            "margin": null,
            "max_height": null,
            "max_width": null,
            "min_height": null,
            "min_width": null,
            "object_fit": null,
            "object_position": null,
            "order": null,
            "overflow": null,
            "overflow_x": null,
            "overflow_y": null,
            "padding": null,
            "right": null,
            "top": null,
            "visibility": null,
            "width": null
          }
        },
        "baaf88b75f5c4c2eb9f5cfff2ab78417": {
          "model_module": "@jupyter-widgets/output",
          "model_module_version": "1.0.0",
          "model_name": "OutputModel",
          "state": {
            "_dom_classes": [],
            "_model_module": "@jupyter-widgets/output",
            "_model_module_version": "1.0.0",
            "_model_name": "OutputModel",
            "_view_count": null,
            "_view_module": "@jupyter-widgets/output",
            "_view_module_version": "1.0.0",
            "_view_name": "OutputView",
            "layout": "IPY_MODEL_c023a42c34ac460eb14d14c90c162623",
            "msg_id": "",
            "outputs": []
          }
        },
        "bac68c612dbc435fb2e6857f1d65561d": {
          "model_module": "@jupyter-widgets/base",
          "model_module_version": "1.2.0",
          "model_name": "LayoutModel",
          "state": {
            "_model_module": "@jupyter-widgets/base",
            "_model_module_version": "1.2.0",
            "_model_name": "LayoutModel",
            "_view_count": null,
            "_view_module": "@jupyter-widgets/base",
            "_view_module_version": "1.2.0",
            "_view_name": "LayoutView",
            "align_content": null,
            "align_items": null,
            "align_self": null,
            "border": null,
            "bottom": null,
            "display": null,
            "flex": null,
            "flex_flow": null,
            "grid_area": null,
            "grid_auto_columns": null,
            "grid_auto_flow": null,
            "grid_auto_rows": null,
            "grid_column": null,
            "grid_gap": null,
            "grid_row": null,
            "grid_template_areas": null,
            "grid_template_columns": null,
            "grid_template_rows": null,
            "height": null,
            "justify_content": null,
            "justify_items": null,
            "left": null,
            "margin": null,
            "max_height": null,
            "max_width": null,
            "min_height": null,
            "min_width": null,
            "object_fit": null,
            "object_position": null,
            "order": null,
            "overflow": null,
            "overflow_x": null,
            "overflow_y": null,
            "padding": null,
            "right": null,
            "top": null,
            "visibility": null,
            "width": null
          }
        },
        "c023a42c34ac460eb14d14c90c162623": {
          "model_module": "@jupyter-widgets/base",
          "model_module_version": "1.2.0",
          "model_name": "LayoutModel",
          "state": {
            "_model_module": "@jupyter-widgets/base",
            "_model_module_version": "1.2.0",
            "_model_name": "LayoutModel",
            "_view_count": null,
            "_view_module": "@jupyter-widgets/base",
            "_view_module_version": "1.2.0",
            "_view_name": "LayoutView",
            "align_content": null,
            "align_items": null,
            "align_self": null,
            "border": null,
            "bottom": null,
            "display": null,
            "flex": null,
            "flex_flow": null,
            "grid_area": null,
            "grid_auto_columns": null,
            "grid_auto_flow": null,
            "grid_auto_rows": null,
            "grid_column": null,
            "grid_gap": null,
            "grid_row": null,
            "grid_template_areas": null,
            "grid_template_columns": null,
            "grid_template_rows": null,
            "height": null,
            "justify_content": null,
            "justify_items": null,
            "left": null,
            "margin": null,
            "max_height": null,
            "max_width": null,
            "min_height": null,
            "min_width": null,
            "object_fit": null,
            "object_position": null,
            "order": null,
            "overflow": null,
            "overflow_x": null,
            "overflow_y": null,
            "padding": null,
            "right": null,
            "top": null,
            "visibility": null,
            "width": null
          }
        },
        "c2ead68299b946ebb2f7cc976e839389": {
          "model_module": "@jupyter-widgets/controls",
          "model_module_version": "1.5.0",
          "model_name": "LabelModel",
          "state": {
            "_dom_classes": [],
            "_model_module": "@jupyter-widgets/controls",
            "_model_module_version": "1.5.0",
            "_model_name": "LabelModel",
            "_view_count": null,
            "_view_module": "@jupyter-widgets/controls",
            "_view_module_version": "1.5.0",
            "_view_name": "LabelView",
            "description": "",
            "description_tooltip": null,
            "layout": "IPY_MODEL_7cc040ab9ce8461aae9388ca296d0575",
            "placeholder": "​",
            "style": "IPY_MODEL_e79d50dcd2f846f3a60f3f96261a1f6f",
            "value": "Enter the video name (Without .mp4)"
          }
        },
        "c321e88e89434edf860d7d089aa6ec1b": {
          "model_module": "@jupyter-widgets/controls",
          "model_module_version": "1.5.0",
          "model_name": "DropdownModel",
          "state": {
            "_dom_classes": [],
            "_model_module": "@jupyter-widgets/controls",
            "_model_module_version": "1.5.0",
            "_model_name": "DropdownModel",
            "_options_labels": [
              "--Select a video--",
              "X8AP2.mp4"
            ],
            "_view_count": null,
            "_view_module": "@jupyter-widgets/controls",
            "_view_module_version": "1.5.0",
            "_view_name": "DropdownView",
            "description": "Select a video:",
            "description_tooltip": null,
            "disabled": false,
            "index": 1,
            "layout": "IPY_MODEL_7f020a34be484ca8b04e277684a9f9df",
            "style": "IPY_MODEL_483ee0784d0846c1a0c2a36c7e2b4873"
          }
        },
        "c78c3c1e7adb4873a975f82c6f46c222": {
          "model_module": "@jupyter-widgets/base",
          "model_module_version": "1.2.0",
          "model_name": "LayoutModel",
          "state": {
            "_model_module": "@jupyter-widgets/base",
            "_model_module_version": "1.2.0",
            "_model_name": "LayoutModel",
            "_view_count": null,
            "_view_module": "@jupyter-widgets/base",
            "_view_module_version": "1.2.0",
            "_view_name": "LayoutView",
            "align_content": null,
            "align_items": null,
            "align_self": null,
            "border": null,
            "bottom": null,
            "display": null,
            "flex": null,
            "flex_flow": null,
            "grid_area": null,
            "grid_auto_columns": null,
            "grid_auto_flow": null,
            "grid_auto_rows": null,
            "grid_column": null,
            "grid_gap": null,
            "grid_row": null,
            "grid_template_areas": null,
            "grid_template_columns": null,
            "grid_template_rows": null,
            "height": null,
            "justify_content": null,
            "justify_items": null,
            "left": null,
            "margin": null,
            "max_height": null,
            "max_width": null,
            "min_height": null,
            "min_width": null,
            "object_fit": null,
            "object_position": null,
            "order": null,
            "overflow": null,
            "overflow_x": null,
            "overflow_y": null,
            "padding": null,
            "right": null,
            "top": null,
            "visibility": null,
            "width": null
          }
        },
        "d8e9036ab89642a2be74d8fc21e23ff9": {
          "model_module": "@jupyter-widgets/base",
          "model_module_version": "1.2.0",
          "model_name": "LayoutModel",
          "state": {
            "_model_module": "@jupyter-widgets/base",
            "_model_module_version": "1.2.0",
            "_model_name": "LayoutModel",
            "_view_count": null,
            "_view_module": "@jupyter-widgets/base",
            "_view_module_version": "1.2.0",
            "_view_name": "LayoutView",
            "align_content": null,
            "align_items": null,
            "align_self": null,
            "border": null,
            "bottom": null,
            "display": null,
            "flex": null,
            "flex_flow": null,
            "grid_area": null,
            "grid_auto_columns": null,
            "grid_auto_flow": null,
            "grid_auto_rows": null,
            "grid_column": null,
            "grid_gap": null,
            "grid_row": null,
            "grid_template_areas": null,
            "grid_template_columns": null,
            "grid_template_rows": null,
            "height": null,
            "justify_content": null,
            "justify_items": null,
            "left": null,
            "margin": null,
            "max_height": null,
            "max_width": null,
            "min_height": null,
            "min_width": null,
            "object_fit": null,
            "object_position": null,
            "order": null,
            "overflow": null,
            "overflow_x": null,
            "overflow_y": null,
            "padding": null,
            "right": null,
            "top": null,
            "visibility": null,
            "width": null
          }
        },
        "d9e67ceac57940e7a9c6a264cc919a20": {
          "model_module": "@jupyter-widgets/controls",
          "model_module_version": "1.5.0",
          "model_name": "TextModel",
          "state": {
            "_dom_classes": [],
            "_model_module": "@jupyter-widgets/controls",
            "_model_module_version": "1.5.0",
            "_model_name": "TextModel",
            "_view_count": null,
            "_view_module": "@jupyter-widgets/controls",
            "_view_module_version": "1.5.0",
            "_view_name": "TextView",
            "continuous_update": true,
            "description": "script:",
            "description_tooltip": null,
            "disabled": false,
            "layout": "IPY_MODEL_25169709526f4aebb82415fd41f52212",
            "placeholder": "​",
            "style": "IPY_MODEL_3bcc454e17ce41ff8f3ba27439ffb40f",
            "value": "A person is eating, then opening and closing a book, then using a phone and finally taking medicine in a living room."
          }
        },
        "e10dccc743e04d06b9151d072ee2cb82": {
          "model_module": "@jupyter-widgets/controls",
          "model_module_version": "1.5.0",
          "model_name": "DescriptionStyleModel",
          "state": {
            "_model_module": "@jupyter-widgets/controls",
            "_model_module_version": "1.5.0",
            "_model_name": "DescriptionStyleModel",
            "_view_count": null,
            "_view_module": "@jupyter-widgets/base",
            "_view_module_version": "1.2.0",
            "_view_name": "StyleView",
            "description_width": ""
          }
        },
        "e25d15416dc54aea9646d671a3ef5ed4": {
          "model_module": "@jupyter-widgets/controls",
          "model_module_version": "1.5.0",
          "model_name": "DescriptionStyleModel",
          "state": {
            "_model_module": "@jupyter-widgets/controls",
            "_model_module_version": "1.5.0",
            "_model_name": "DescriptionStyleModel",
            "_view_count": null,
            "_view_module": "@jupyter-widgets/base",
            "_view_module_version": "1.2.0",
            "_view_name": "StyleView",
            "description_width": ""
          }
        },
        "e79d50dcd2f846f3a60f3f96261a1f6f": {
          "model_module": "@jupyter-widgets/controls",
          "model_module_version": "1.5.0",
          "model_name": "DescriptionStyleModel",
          "state": {
            "_model_module": "@jupyter-widgets/controls",
            "_model_module_version": "1.5.0",
            "_model_name": "DescriptionStyleModel",
            "_view_count": null,
            "_view_module": "@jupyter-widgets/base",
            "_view_module_version": "1.2.0",
            "_view_name": "StyleView",
            "description_width": ""
          }
        }
      }
    }
  },
  "nbformat": 4,
  "nbformat_minor": 0
}
